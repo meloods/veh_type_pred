{
  "cells": [
    {
      "cell_type": "markdown",
      "metadata": {
        "id": "PcW_k8NTSDJS"
      },
      "source": [
        "# Initialisation"
      ]
    },
    {
      "cell_type": "code",
      "execution_count": 2,
      "metadata": {
        "colab": {
          "base_uri": "https://localhost:8080/"
        },
        "id": "S_oEZNTTg2Qj",
        "outputId": "ef09135b-ae66-4e4d-9ce0-f0aa731d5fb8"
      },
      "outputs": [
        {
          "name": "stdout",
          "output_type": "stream",
          "text": [
            "Python 3.11.8\n"
          ]
        }
      ],
      "source": [
        "!python --version"
      ]
    },
    {
      "cell_type": "code",
      "execution_count": 3,
      "metadata": {
        "colab": {
          "base_uri": "https://localhost:8080/"
        },
        "id": "D_8n9J8iSCxG",
        "outputId": "6b9a943e-9460-4425-d433-2e655cfad398"
      },
      "outputs": [
        {
          "name": "stdout",
          "output_type": "stream",
          "text": [
            "/bin/bash: nvidia-smi: command not found\n"
          ]
        }
      ],
      "source": [
        "# See GPU info\n",
        "gpu_info = !nvidia-smi\n",
        "gpu_info = '\\n'.join(gpu_info)\n",
        "if gpu_info.find('failed') >= 0:\n",
        "  print('Not connected to a GPU')\n",
        "else:\n",
        "  print(gpu_info)"
      ]
    },
    {
      "cell_type": "code",
      "execution_count": 5,
      "metadata": {
        "colab": {
          "base_uri": "https://localhost:8080/"
        },
        "id": "qLiAQMsoSCzD",
        "outputId": "33044961-a4e4-47b1-a57a-e08b5ecf5681"
      },
      "outputs": [
        {
          "name": "stdout",
          "output_type": "stream",
          "text": [
            "Mounted at /content/drive\n"
          ]
        }
      ],
      "source": [
        "# # Mount Google Drive\n",
        "# from google.colab import drive\n",
        "# drive.mount('/content/drive')"
      ]
    },
    {
      "cell_type": "code",
      "execution_count": 6,
      "metadata": {
        "colab": {
          "base_uri": "https://localhost:8080/"
        },
        "id": "OD9mNSkgSC1P",
        "outputId": "3e85a519-fb18-4b9f-e61e-2b258a41a619"
      },
      "outputs": [
        {
          "name": "stdout",
          "output_type": "stream",
          "text": [
            "Collecting ray[tune]\n",
            "  Downloading ray-2.11.0-cp310-cp310-manylinux2014_x86_64.whl (65.3 MB)\n",
            "\u001b[2K     \u001b[90m━━━━━━━━━━━━━━━━━━━━━━━━━━━━━━━━━━━━━━━━\u001b[0m \u001b[32m65.3/65.3 MB\u001b[0m \u001b[31m27.0 MB/s\u001b[0m eta \u001b[36m0:00:00\u001b[0m\n",
            "\u001b[?25hRequirement already satisfied: click>=7.0 in /usr/local/lib/python3.10/dist-packages (from ray[tune]) (8.1.7)\n",
            "Requirement already satisfied: filelock in /usr/local/lib/python3.10/dist-packages (from ray[tune]) (3.13.4)\n",
            "Requirement already satisfied: jsonschema in /usr/local/lib/python3.10/dist-packages (from ray[tune]) (4.19.2)\n",
            "Requirement already satisfied: msgpack<2.0.0,>=1.0.0 in /usr/local/lib/python3.10/dist-packages (from ray[tune]) (1.0.8)\n",
            "Requirement already satisfied: packaging in /usr/local/lib/python3.10/dist-packages (from ray[tune]) (24.0)\n",
            "Requirement already satisfied: protobuf!=3.19.5,>=3.15.3 in /usr/local/lib/python3.10/dist-packages (from ray[tune]) (3.20.3)\n",
            "Requirement already satisfied: pyyaml in /usr/local/lib/python3.10/dist-packages (from ray[tune]) (6.0.1)\n",
            "Requirement already satisfied: aiosignal in /usr/local/lib/python3.10/dist-packages (from ray[tune]) (1.3.1)\n",
            "Requirement already satisfied: frozenlist in /usr/local/lib/python3.10/dist-packages (from ray[tune]) (1.4.1)\n",
            "Requirement already satisfied: requests in /usr/local/lib/python3.10/dist-packages (from ray[tune]) (2.31.0)\n",
            "Requirement already satisfied: pandas in /usr/local/lib/python3.10/dist-packages (from ray[tune]) (2.0.3)\n",
            "Collecting tensorboardX>=1.9 (from ray[tune])\n",
            "  Downloading tensorboardX-2.6.2.2-py2.py3-none-any.whl (101 kB)\n",
            "\u001b[2K     \u001b[90m━━━━━━━━━━━━━━━━━━━━━━━━━━━━━━━━━━━━━━━━\u001b[0m \u001b[32m101.7/101.7 kB\u001b[0m \u001b[31m14.9 MB/s\u001b[0m eta \u001b[36m0:00:00\u001b[0m\n",
            "\u001b[?25hRequirement already satisfied: pyarrow>=6.0.1 in /usr/local/lib/python3.10/dist-packages (from ray[tune]) (14.0.2)\n",
            "Requirement already satisfied: fsspec in /usr/local/lib/python3.10/dist-packages (from ray[tune]) (2023.6.0)\n",
            "Requirement already satisfied: numpy>=1.16.6 in /usr/local/lib/python3.10/dist-packages (from pyarrow>=6.0.1->ray[tune]) (1.25.2)\n",
            "Requirement already satisfied: attrs>=22.2.0 in /usr/local/lib/python3.10/dist-packages (from jsonschema->ray[tune]) (23.2.0)\n",
            "Requirement already satisfied: jsonschema-specifications>=2023.03.6 in /usr/local/lib/python3.10/dist-packages (from jsonschema->ray[tune]) (2023.12.1)\n",
            "Requirement already satisfied: referencing>=0.28.4 in /usr/local/lib/python3.10/dist-packages (from jsonschema->ray[tune]) (0.34.0)\n",
            "Requirement already satisfied: rpds-py>=0.7.1 in /usr/local/lib/python3.10/dist-packages (from jsonschema->ray[tune]) (0.18.0)\n",
            "Requirement already satisfied: python-dateutil>=2.8.2 in /usr/local/lib/python3.10/dist-packages (from pandas->ray[tune]) (2.8.2)\n",
            "Requirement already satisfied: pytz>=2020.1 in /usr/local/lib/python3.10/dist-packages (from pandas->ray[tune]) (2023.4)\n",
            "Requirement already satisfied: tzdata>=2022.1 in /usr/local/lib/python3.10/dist-packages (from pandas->ray[tune]) (2024.1)\n",
            "Requirement already satisfied: charset-normalizer<4,>=2 in /usr/local/lib/python3.10/dist-packages (from requests->ray[tune]) (3.3.2)\n",
            "Requirement already satisfied: idna<4,>=2.5 in /usr/local/lib/python3.10/dist-packages (from requests->ray[tune]) (3.7)\n",
            "Requirement already satisfied: urllib3<3,>=1.21.1 in /usr/local/lib/python3.10/dist-packages (from requests->ray[tune]) (2.0.7)\n",
            "Requirement already satisfied: certifi>=2017.4.17 in /usr/local/lib/python3.10/dist-packages (from requests->ray[tune]) (2024.2.2)\n",
            "Requirement already satisfied: six>=1.5 in /usr/local/lib/python3.10/dist-packages (from python-dateutil>=2.8.2->pandas->ray[tune]) (1.16.0)\n",
            "Installing collected packages: tensorboardX, ray\n",
            "Successfully installed ray-2.11.0 tensorboardX-2.6.2.2\n",
            "Collecting optuna==2.9.1\n",
            "  Downloading optuna-2.9.1-py3-none-any.whl (302 kB)\n",
            "\u001b[2K     \u001b[90m━━━━━━━━━━━━━━━━━━━━━━━━━━━━━━━━━━━━━━━━\u001b[0m \u001b[32m302.6/302.6 kB\u001b[0m \u001b[31m7.0 MB/s\u001b[0m eta \u001b[36m0:00:00\u001b[0m\n",
            "\u001b[?25hCollecting alembic (from optuna==2.9.1)\n",
            "  Downloading alembic-1.13.1-py3-none-any.whl (233 kB)\n",
            "\u001b[2K     \u001b[90m━━━━━━━━━━━━━━━━━━━━━━━━━━━━━━━━━━━━━━━━\u001b[0m \u001b[32m233.4/233.4 kB\u001b[0m \u001b[31m12.6 MB/s\u001b[0m eta \u001b[36m0:00:00\u001b[0m\n",
            "\u001b[?25hCollecting cliff (from optuna==2.9.1)\n",
            "  Downloading cliff-4.6.0-py3-none-any.whl (81 kB)\n",
            "\u001b[2K     \u001b[90m━━━━━━━━━━━━━━━━━━━━━━━━━━━━━━━━━━━━━━━━\u001b[0m \u001b[32m81.1/81.1 kB\u001b[0m \u001b[31m12.9 MB/s\u001b[0m eta \u001b[36m0:00:00\u001b[0m\n",
            "\u001b[?25hCollecting cmaes>=0.8.2 (from optuna==2.9.1)\n",
            "  Downloading cmaes-0.10.0-py3-none-any.whl (29 kB)\n",
            "Collecting colorlog (from optuna==2.9.1)\n",
            "  Downloading colorlog-6.8.2-py3-none-any.whl (11 kB)\n",
            "Requirement already satisfied: numpy in /usr/local/lib/python3.10/dist-packages (from optuna==2.9.1) (1.25.2)\n",
            "Requirement already satisfied: packaging>=20.0 in /usr/local/lib/python3.10/dist-packages (from optuna==2.9.1) (24.0)\n",
            "Requirement already satisfied: scipy!=1.4.0 in /usr/local/lib/python3.10/dist-packages (from optuna==2.9.1) (1.11.4)\n",
            "Requirement already satisfied: sqlalchemy>=1.1.0 in /usr/local/lib/python3.10/dist-packages (from optuna==2.9.1) (2.0.29)\n",
            "Requirement already satisfied: tqdm in /usr/local/lib/python3.10/dist-packages (from optuna==2.9.1) (4.66.2)\n",
            "Requirement already satisfied: PyYAML in /usr/local/lib/python3.10/dist-packages (from optuna==2.9.1) (6.0.1)\n",
            "Requirement already satisfied: typing-extensions>=4.6.0 in /usr/local/lib/python3.10/dist-packages (from sqlalchemy>=1.1.0->optuna==2.9.1) (4.11.0)\n",
            "Requirement already satisfied: greenlet!=0.4.17 in /usr/local/lib/python3.10/dist-packages (from sqlalchemy>=1.1.0->optuna==2.9.1) (3.0.3)\n",
            "Collecting Mako (from alembic->optuna==2.9.1)\n",
            "  Downloading Mako-1.3.3-py3-none-any.whl (78 kB)\n",
            "\u001b[2K     \u001b[90m━━━━━━━━━━━━━━━━━━━━━━━━━━━━━━━━━━━━━━━━\u001b[0m \u001b[32m78.8/78.8 kB\u001b[0m \u001b[31m10.7 MB/s\u001b[0m eta \u001b[36m0:00:00\u001b[0m\n",
            "\u001b[?25hRequirement already satisfied: PrettyTable>=0.7.2 in /usr/local/lib/python3.10/dist-packages (from cliff->optuna==2.9.1) (3.10.0)\n",
            "Collecting autopage>=0.4.0 (from cliff->optuna==2.9.1)\n",
            "  Downloading autopage-0.5.2-py3-none-any.whl (30 kB)\n",
            "Collecting cmd2>=1.0.0 (from cliff->optuna==2.9.1)\n",
            "  Downloading cmd2-2.4.3-py3-none-any.whl (147 kB)\n",
            "\u001b[2K     \u001b[90m━━━━━━━━━━━━━━━━━━━━━━━━━━━━━━━━━━━━━━━━\u001b[0m \u001b[32m147.2/147.2 kB\u001b[0m \u001b[31m10.6 MB/s\u001b[0m eta \u001b[36m0:00:00\u001b[0m\n",
            "\u001b[?25hCollecting stevedore>=2.0.1 (from cliff->optuna==2.9.1)\n",
            "  Downloading stevedore-5.2.0-py3-none-any.whl (49 kB)\n",
            "\u001b[2K     \u001b[90m━━━━━━━━━━━━━━━━━━━━━━━━━━━━━━━━━━━━━━━━\u001b[0m \u001b[32m49.7/49.7 kB\u001b[0m \u001b[31m7.7 MB/s\u001b[0m eta \u001b[36m0:00:00\u001b[0m\n",
            "\u001b[?25hRequirement already satisfied: attrs>=16.3.0 in /usr/local/lib/python3.10/dist-packages (from cmd2>=1.0.0->cliff->optuna==2.9.1) (23.2.0)\n",
            "Requirement already satisfied: pyperclip>=1.6 in /usr/local/lib/python3.10/dist-packages (from cmd2>=1.0.0->cliff->optuna==2.9.1) (1.8.2)\n",
            "Requirement already satisfied: wcwidth>=0.1.7 in /usr/local/lib/python3.10/dist-packages (from cmd2>=1.0.0->cliff->optuna==2.9.1) (0.2.13)\n",
            "Collecting pbr!=2.1.0,>=2.0.0 (from stevedore>=2.0.1->cliff->optuna==2.9.1)\n",
            "  Downloading pbr-6.0.0-py2.py3-none-any.whl (107 kB)\n",
            "\u001b[2K     \u001b[90m━━━━━━━━━━━━━━━━━━━━━━━━━━━━━━━━━━━━━━━━\u001b[0m \u001b[32m107.5/107.5 kB\u001b[0m \u001b[31m8.6 MB/s\u001b[0m eta \u001b[36m0:00:00\u001b[0m\n",
            "\u001b[?25hRequirement already satisfied: MarkupSafe>=0.9.2 in /usr/local/lib/python3.10/dist-packages (from Mako->alembic->optuna==2.9.1) (2.1.5)\n",
            "Installing collected packages: pbr, Mako, colorlog, cmd2, cmaes, autopage, stevedore, alembic, cliff, optuna\n",
            "Successfully installed Mako-1.3.3 alembic-1.13.1 autopage-0.5.2 cliff-4.6.0 cmaes-0.10.0 cmd2-2.4.3 colorlog-6.8.2 optuna-2.9.1 pbr-6.0.0 stevedore-5.2.0\n",
            "Collecting tslearn\n",
            "  Downloading tslearn-0.6.3-py3-none-any.whl (374 kB)\n",
            "\u001b[2K     \u001b[90m━━━━━━━━━━━━━━━━━━━━━━━━━━━━━━━━━━━━━━━━\u001b[0m \u001b[32m374.4/374.4 kB\u001b[0m \u001b[31m7.2 MB/s\u001b[0m eta \u001b[36m0:00:00\u001b[0m\n",
            "\u001b[?25hRequirement already satisfied: numpy in /usr/local/lib/python3.10/dist-packages (from tslearn) (1.25.2)\n",
            "Requirement already satisfied: scipy in /usr/local/lib/python3.10/dist-packages (from tslearn) (1.11.4)\n",
            "Requirement already satisfied: scikit-learn in /usr/local/lib/python3.10/dist-packages (from tslearn) (1.2.2)\n",
            "Requirement already satisfied: numba in /usr/local/lib/python3.10/dist-packages (from tslearn) (0.58.1)\n",
            "Requirement already satisfied: joblib in /usr/local/lib/python3.10/dist-packages (from tslearn) (1.4.0)\n",
            "Requirement already satisfied: llvmlite<0.42,>=0.41.0dev0 in /usr/local/lib/python3.10/dist-packages (from numba->tslearn) (0.41.1)\n",
            "Requirement already satisfied: threadpoolctl>=2.0.0 in /usr/local/lib/python3.10/dist-packages (from scikit-learn->tslearn) (3.4.0)\n",
            "Installing collected packages: tslearn\n",
            "Successfully installed tslearn-0.6.3\n"
          ]
        }
      ],
      "source": [
        "# # Install libraries not already included in colab\n",
        "# !pip install ray[tune]\n",
        "# !pip install optuna==2.9.1\n",
        "# !pip install tslearn"
      ]
    },
    {
      "cell_type": "markdown",
      "metadata": {
        "id": "b3a_mU0XSman"
      },
      "source": [
        "## Imports"
      ]
    },
    {
      "cell_type": "code",
      "execution_count": 4,
      "metadata": {
        "id": "owQz1o0rSC3T"
      },
      "outputs": [
        {
          "ename": "ModuleNotFoundError",
          "evalue": "No module named 'matplotlib'",
          "output_type": "error",
          "traceback": [
            "\u001b[0;31m---------------------------------------------------------------------------\u001b[0m",
            "\u001b[0;31mModuleNotFoundError\u001b[0m                       Traceback (most recent call last)",
            "Cell \u001b[0;32mIn[4], line 9\u001b[0m\n\u001b[1;32m      6\u001b[0m \u001b[38;5;28;01mfrom\u001b[39;00m \u001b[38;5;21;01mcollections\u001b[39;00m \u001b[38;5;28;01mimport\u001b[39;00m Counter\n\u001b[1;32m      8\u001b[0m \u001b[38;5;66;03m# Third-party imports\u001b[39;00m\n\u001b[0;32m----> 9\u001b[0m \u001b[38;5;28;01mimport\u001b[39;00m \u001b[38;5;21;01mmatplotlib\u001b[39;00m\u001b[38;5;21;01m.\u001b[39;00m\u001b[38;5;21;01mpyplot\u001b[39;00m \u001b[38;5;28;01mas\u001b[39;00m \u001b[38;5;21;01mplt\u001b[39;00m\n\u001b[1;32m     10\u001b[0m \u001b[38;5;28;01mimport\u001b[39;00m \u001b[38;5;21;01mnumpy\u001b[39;00m \u001b[38;5;28;01mas\u001b[39;00m \u001b[38;5;21;01mnp\u001b[39;00m\n\u001b[1;32m     11\u001b[0m \u001b[38;5;28;01mimport\u001b[39;00m \u001b[38;5;21;01mpandas\u001b[39;00m \u001b[38;5;28;01mas\u001b[39;00m \u001b[38;5;21;01mpd\u001b[39;00m\n",
            "\u001b[0;31mModuleNotFoundError\u001b[0m: No module named 'matplotlib'"
          ]
        }
      ],
      "source": [
        "# Standard library imports\n",
        "import glob\n",
        "import os\n",
        "import pprint\n",
        "import re\n",
        "from collections import Counter\n",
        "\n",
        "# Third-party imports\n",
        "import matplotlib.pyplot as plt\n",
        "import numpy as np\n",
        "import pandas as pd\n",
        "import seaborn as sns\n",
        "from mpl_toolkits.mplot3d import Axes3D\n",
        "from sklearn.metrics import classification_report, confusion_matrix, f1_score\n",
        "from sklearn.preprocessing import LabelEncoder, MinMaxScaler, RobustScaler\n",
        "from sklearn.utils import resample\n",
        "from tslearn.clustering import TimeSeriesKMeans\n",
        "from tslearn.preprocessing import TimeSeriesResampler\n",
        "from tslearn.utils import to_time_series_dataset\n",
        "\n",
        "# PyTorch and related imports\n",
        "import torch\n",
        "import torch.nn as nn\n",
        "import torch.optim as optim\n",
        "from torch.nn.utils.rnn import pad_packed_sequence, pad_sequence, pack_padded_sequence\n",
        "from torch.optim.lr_scheduler import CyclicLR\n",
        "from torch.utils.data import DataLoader, Dataset, IterableDataset"
      ]
    },
    {
      "cell_type": "markdown",
      "metadata": {
        "id": "hdgJ6vdKS4Td"
      },
      "source": [
        "## Constants"
      ]
    },
    {
      "cell_type": "code",
      "execution_count": 8,
      "metadata": {
        "id": "hM84Tnu2SmAx"
      },
      "outputs": [],
      "source": [
        "# Constants for easy reference and modification\n",
        "COLS_TO_KEEP = [\n",
        "    'vehicle_id', 'vehicle_type',\n",
        "    'vehicle_speed', 'vehicle_angle',\n",
        "    'vehicle_x', 'vehicle_y', 'vehicle_z',\n",
        "    'timestep_time'\n",
        "]\n",
        "\n",
        "GROUPBY_COL = 'unique_id'\n",
        "\n",
        "DATETIME_COL = 'datetime'\n",
        "\n",
        "TARGET_COL = 'vehicle_type'\n",
        "\n",
        "FEATURE_COLS = [\n",
        "    'vehicle_speed',\n",
        "    'vehicle_angle_sine', 'vehicle_angle_cosine',\n",
        "    'vehicle_x', 'vehicle_y', 'vehicle_z'\n",
        "]\n",
        "\n",
        "SAVE_DIR = \"/content/drive/MyDrive/RDO MDT stuff/vehicle_type_classification\""
      ]
    },
    {
      "cell_type": "markdown",
      "metadata": {
        "id": "ExSX8qoyTFTV"
      },
      "source": [
        "## Functions and Class Definitions"
      ]
    },
    {
      "cell_type": "code",
      "execution_count": 8,
      "metadata": {
        "id": "N0p2OAYrTidj"
      },
      "outputs": [],
      "source": []
    },
    {
      "cell_type": "markdown",
      "metadata": {
        "id": "IOP7Sq0rTQJm"
      },
      "source": [
        "# Raw Data"
      ]
    },
    {
      "cell_type": "markdown",
      "metadata": {
        "id": "7ZBKXb8HTTCP"
      },
      "source": [
        "## Load raw data"
      ]
    },
    {
      "cell_type": "code",
      "execution_count": 9,
      "metadata": {
        "colab": {
          "base_uri": "https://localhost:8080/"
        },
        "id": "VuzhdBL7SmE4",
        "outputId": "9478e969-79d1-4263-e577-caf2ca6dc0a6"
      },
      "outputs": [
        {
          "name": "stdout",
          "output_type": "stream",
          "text": [
            "--2024-04-25 14:49:45--  https://standard-traffic-data.s3.us-east-2.amazonaws.com/most_0400_0600_1_5.csv\n",
            "Resolving standard-traffic-data.s3.us-east-2.amazonaws.com (standard-traffic-data.s3.us-east-2.amazonaws.com)... 52.219.80.96, 52.219.93.250, 3.5.130.16, ...\n",
            "Connecting to standard-traffic-data.s3.us-east-2.amazonaws.com (standard-traffic-data.s3.us-east-2.amazonaws.com)|52.219.80.96|:443... connected.\n",
            "HTTP request sent, awaiting response... 200 OK\n",
            "Length: 212534013 (203M) [binary/octet-stream]\n",
            "Saving to: ‘most_0400_0600_1_5.csv’\n",
            "\n",
            "most_0400_0600_1_5. 100%[===================>] 202.69M  51.8MB/s    in 4.2s    \n",
            "\n",
            "2024-04-25 14:49:49 (47.9 MB/s) - ‘most_0400_0600_1_5.csv’ saved [212534013/212534013]\n",
            "\n"
          ]
        }
      ],
      "source": [
        "!wget -nc https://standard-traffic-data.s3.us-east-2.amazonaws.com/most_0400_0600_1_5.csv\n",
        "raw_df = pd.read_csv('most_0400_0600_1_5.csv', sep=';')"
      ]
    },
    {
      "cell_type": "markdown",
      "metadata": {
        "id": "cDDV_uzMTVfW"
      },
      "source": [
        "## Inspect raw data"
      ]
    },
    {
      "cell_type": "markdown",
      "metadata": {
        "id": "RUqx33k3TY-g"
      },
      "source": [
        "- `timestep_time` [s] – the current simulation time (0 corresponds to the beginning of the day)\n",
        "- `vehicle_id` / `person_id` – a unique object identifier\n",
        "- `vehicle_angle` / `person_angle` [°] – orientation of the object in navigational standard (0-360°)\n",
        "- `vehicle_lane` – the ID of the lane the vehicle is currently moving onto\n",
        "- `vehicle_pos` / `person_pos` [m] – running position of the object from the start of the current lane\n",
        "- `vehicle_slope` / `person_slope` [°] – slope of the object lane at object position\n",
        "- `vehicle_speed` / `person_speed` [m/s] – absolute speed of the object\n",
        "- `vehicle_type` – the type of the vehicle (private vehicle, Uber, delivery truck etc.)\n",
        "- `vehicle_x` / `person_x` [m] – absolute x coordinate / longitude of the object\n",
        "- `vehicle_y` / `person_y` [m] – absolute y coordinate / latitude of the object\n",
        "- `vehicle_z` / `person_z` [m] – elevation of the object\n",
        "- `person_edge` – edge of the virtual footpath the person is moving on"
      ]
    },
    {
      "cell_type": "code",
      "execution_count": 10,
      "metadata": {
        "colab": {
          "base_uri": "https://localhost:8080/"
        },
        "id": "2RHf6xQmSmG2",
        "outputId": "54f5d0dc-1691-459f-fc47-a9dd328c2983"
      },
      "outputs": [
        {
          "name": "stdout",
          "output_type": "stream",
          "text": [
            "<class 'pandas.core.frame.DataFrame'>\n",
            "RangeIndex: 2067350 entries, 0 to 2067349\n",
            "Data columns (total 20 columns):\n",
            " #   Column         Dtype  \n",
            "---  ------         -----  \n",
            " 0   timestep_time  float64\n",
            " 1   vehicle_angle  float64\n",
            " 2   vehicle_id     object \n",
            " 3   vehicle_lane   object \n",
            " 4   vehicle_pos    float64\n",
            " 5   vehicle_slope  float64\n",
            " 6   vehicle_speed  float64\n",
            " 7   vehicle_type   object \n",
            " 8   vehicle_x      float64\n",
            " 9   vehicle_y      float64\n",
            " 10  vehicle_z      float64\n",
            " 11  person_angle   float64\n",
            " 12  person_edge    object \n",
            " 13  person_id      object \n",
            " 14  person_pos     float64\n",
            " 15  person_slope   float64\n",
            " 16  person_speed   float64\n",
            " 17  person_x       float64\n",
            " 18  person_y       float64\n",
            " 19  person_z       float64\n",
            "dtypes: float64(15), object(5)\n",
            "memory usage: 315.5+ MB\n"
          ]
        }
      ],
      "source": [
        "raw_df.info()"
      ]
    },
    {
      "cell_type": "code",
      "execution_count": 11,
      "metadata": {
        "colab": {
          "base_uri": "https://localhost:8080/",
          "height": 226
        },
        "id": "jD6dAR45SC5o",
        "outputId": "3b2b66dd-f05b-4e44-e164-124bbaf2a8c0"
      },
      "outputs": [
        {
          "data": {
            "application/vnd.google.colaboratory.intrinsic+json": {
              "type": "dataframe",
              "variable_name": "raw_df"
            },
            "text/html": [
              "\n",
              "  <div id=\"df-98a30c85-c826-4ec6-9347-1f9ec16ff0c4\" class=\"colab-df-container\">\n",
              "    <div>\n",
              "<style scoped>\n",
              "    .dataframe tbody tr th:only-of-type {\n",
              "        vertical-align: middle;\n",
              "    }\n",
              "\n",
              "    .dataframe tbody tr th {\n",
              "        vertical-align: top;\n",
              "    }\n",
              "\n",
              "    .dataframe thead th {\n",
              "        text-align: right;\n",
              "    }\n",
              "</style>\n",
              "<table border=\"1\" class=\"dataframe\">\n",
              "  <thead>\n",
              "    <tr style=\"text-align: right;\">\n",
              "      <th></th>\n",
              "      <th>timestep_time</th>\n",
              "      <th>vehicle_angle</th>\n",
              "      <th>vehicle_id</th>\n",
              "      <th>vehicle_lane</th>\n",
              "      <th>vehicle_pos</th>\n",
              "      <th>vehicle_slope</th>\n",
              "      <th>vehicle_speed</th>\n",
              "      <th>vehicle_type</th>\n",
              "      <th>vehicle_x</th>\n",
              "      <th>vehicle_y</th>\n",
              "      <th>vehicle_z</th>\n",
              "      <th>person_angle</th>\n",
              "      <th>person_edge</th>\n",
              "      <th>person_id</th>\n",
              "      <th>person_pos</th>\n",
              "      <th>person_slope</th>\n",
              "      <th>person_speed</th>\n",
              "      <th>person_x</th>\n",
              "      <th>person_y</th>\n",
              "      <th>person_z</th>\n",
              "    </tr>\n",
              "  </thead>\n",
              "  <tbody>\n",
              "    <tr>\n",
              "      <th>0</th>\n",
              "      <td>14400.0</td>\n",
              "      <td>NaN</td>\n",
              "      <td>NaN</td>\n",
              "      <td>NaN</td>\n",
              "      <td>NaN</td>\n",
              "      <td>NaN</td>\n",
              "      <td>NaN</td>\n",
              "      <td>NaN</td>\n",
              "      <td>NaN</td>\n",
              "      <td>NaN</td>\n",
              "      <td>NaN</td>\n",
              "      <td>NaN</td>\n",
              "      <td>NaN</td>\n",
              "      <td>NaN</td>\n",
              "      <td>NaN</td>\n",
              "      <td>NaN</td>\n",
              "      <td>NaN</td>\n",
              "      <td>NaN</td>\n",
              "      <td>NaN</td>\n",
              "      <td>NaN</td>\n",
              "    </tr>\n",
              "    <tr>\n",
              "      <th>1</th>\n",
              "      <td>14405.0</td>\n",
              "      <td>80.89</td>\n",
              "      <td>bus_M1:France.0</td>\n",
              "      <td>152927_1</td>\n",
              "      <td>12.10</td>\n",
              "      <td>3.01</td>\n",
              "      <td>0.00</td>\n",
              "      <td>bus</td>\n",
              "      <td>1085.69</td>\n",
              "      <td>197.96</td>\n",
              "      <td>54.34</td>\n",
              "      <td>NaN</td>\n",
              "      <td>NaN</td>\n",
              "      <td>NaN</td>\n",
              "      <td>NaN</td>\n",
              "      <td>NaN</td>\n",
              "      <td>NaN</td>\n",
              "      <td>NaN</td>\n",
              "      <td>NaN</td>\n",
              "      <td>NaN</td>\n",
              "    </tr>\n",
              "    <tr>\n",
              "      <th>2</th>\n",
              "      <td>14410.0</td>\n",
              "      <td>71.94</td>\n",
              "      <td>bus_M1:France.0</td>\n",
              "      <td>152927_1</td>\n",
              "      <td>23.63</td>\n",
              "      <td>1.31</td>\n",
              "      <td>3.97</td>\n",
              "      <td>bus</td>\n",
              "      <td>1096.59</td>\n",
              "      <td>201.56</td>\n",
              "      <td>54.75</td>\n",
              "      <td>NaN</td>\n",
              "      <td>NaN</td>\n",
              "      <td>NaN</td>\n",
              "      <td>NaN</td>\n",
              "      <td>NaN</td>\n",
              "      <td>NaN</td>\n",
              "      <td>NaN</td>\n",
              "      <td>NaN</td>\n",
              "      <td>NaN</td>\n",
              "    </tr>\n",
              "    <tr>\n",
              "      <th>3</th>\n",
              "      <td>14415.0</td>\n",
              "      <td>57.57</td>\n",
              "      <td>bus_M1:France.0</td>\n",
              "      <td>152927_1</td>\n",
              "      <td>57.99</td>\n",
              "      <td>0.66</td>\n",
              "      <td>8.49</td>\n",
              "      <td>bus</td>\n",
              "      <td>1126.83</td>\n",
              "      <td>217.57</td>\n",
              "      <td>55.32</td>\n",
              "      <td>NaN</td>\n",
              "      <td>NaN</td>\n",
              "      <td>NaN</td>\n",
              "      <td>NaN</td>\n",
              "      <td>NaN</td>\n",
              "      <td>NaN</td>\n",
              "      <td>NaN</td>\n",
              "      <td>NaN</td>\n",
              "      <td>NaN</td>\n",
              "    </tr>\n",
              "    <tr>\n",
              "      <th>4</th>\n",
              "      <td>14420.0</td>\n",
              "      <td>32.10</td>\n",
              "      <td>bus_M1:France.0</td>\n",
              "      <td>152927_1</td>\n",
              "      <td>113.32</td>\n",
              "      <td>0.63</td>\n",
              "      <td>12.78</td>\n",
              "      <td>bus</td>\n",
              "      <td>1167.22</td>\n",
              "      <td>253.89</td>\n",
              "      <td>55.41</td>\n",
              "      <td>NaN</td>\n",
              "      <td>NaN</td>\n",
              "      <td>NaN</td>\n",
              "      <td>NaN</td>\n",
              "      <td>NaN</td>\n",
              "      <td>NaN</td>\n",
              "      <td>NaN</td>\n",
              "      <td>NaN</td>\n",
              "      <td>NaN</td>\n",
              "    </tr>\n",
              "  </tbody>\n",
              "</table>\n",
              "</div>\n",
              "    <div class=\"colab-df-buttons\">\n",
              "\n",
              "  <div class=\"colab-df-container\">\n",
              "    <button class=\"colab-df-convert\" onclick=\"convertToInteractive('df-98a30c85-c826-4ec6-9347-1f9ec16ff0c4')\"\n",
              "            title=\"Convert this dataframe to an interactive table.\"\n",
              "            style=\"display:none;\">\n",
              "\n",
              "  <svg xmlns=\"http://www.w3.org/2000/svg\" height=\"24px\" viewBox=\"0 -960 960 960\">\n",
              "    <path d=\"M120-120v-720h720v720H120Zm60-500h600v-160H180v160Zm220 220h160v-160H400v160Zm0 220h160v-160H400v160ZM180-400h160v-160H180v160Zm440 0h160v-160H620v160ZM180-180h160v-160H180v160Zm440 0h160v-160H620v160Z\"/>\n",
              "  </svg>\n",
              "    </button>\n",
              "\n",
              "  <style>\n",
              "    .colab-df-container {\n",
              "      display:flex;\n",
              "      gap: 12px;\n",
              "    }\n",
              "\n",
              "    .colab-df-convert {\n",
              "      background-color: #E8F0FE;\n",
              "      border: none;\n",
              "      border-radius: 50%;\n",
              "      cursor: pointer;\n",
              "      display: none;\n",
              "      fill: #1967D2;\n",
              "      height: 32px;\n",
              "      padding: 0 0 0 0;\n",
              "      width: 32px;\n",
              "    }\n",
              "\n",
              "    .colab-df-convert:hover {\n",
              "      background-color: #E2EBFA;\n",
              "      box-shadow: 0px 1px 2px rgba(60, 64, 67, 0.3), 0px 1px 3px 1px rgba(60, 64, 67, 0.15);\n",
              "      fill: #174EA6;\n",
              "    }\n",
              "\n",
              "    .colab-df-buttons div {\n",
              "      margin-bottom: 4px;\n",
              "    }\n",
              "\n",
              "    [theme=dark] .colab-df-convert {\n",
              "      background-color: #3B4455;\n",
              "      fill: #D2E3FC;\n",
              "    }\n",
              "\n",
              "    [theme=dark] .colab-df-convert:hover {\n",
              "      background-color: #434B5C;\n",
              "      box-shadow: 0px 1px 3px 1px rgba(0, 0, 0, 0.15);\n",
              "      filter: drop-shadow(0px 1px 2px rgba(0, 0, 0, 0.3));\n",
              "      fill: #FFFFFF;\n",
              "    }\n",
              "  </style>\n",
              "\n",
              "    <script>\n",
              "      const buttonEl =\n",
              "        document.querySelector('#df-98a30c85-c826-4ec6-9347-1f9ec16ff0c4 button.colab-df-convert');\n",
              "      buttonEl.style.display =\n",
              "        google.colab.kernel.accessAllowed ? 'block' : 'none';\n",
              "\n",
              "      async function convertToInteractive(key) {\n",
              "        const element = document.querySelector('#df-98a30c85-c826-4ec6-9347-1f9ec16ff0c4');\n",
              "        const dataTable =\n",
              "          await google.colab.kernel.invokeFunction('convertToInteractive',\n",
              "                                                    [key], {});\n",
              "        if (!dataTable) return;\n",
              "\n",
              "        const docLinkHtml = 'Like what you see? Visit the ' +\n",
              "          '<a target=\"_blank\" href=https://colab.research.google.com/notebooks/data_table.ipynb>data table notebook</a>'\n",
              "          + ' to learn more about interactive tables.';\n",
              "        element.innerHTML = '';\n",
              "        dataTable['output_type'] = 'display_data';\n",
              "        await google.colab.output.renderOutput(dataTable, element);\n",
              "        const docLink = document.createElement('div');\n",
              "        docLink.innerHTML = docLinkHtml;\n",
              "        element.appendChild(docLink);\n",
              "      }\n",
              "    </script>\n",
              "  </div>\n",
              "\n",
              "\n",
              "<div id=\"df-260ed36e-99df-4d30-8097-3b8a702164ed\">\n",
              "  <button class=\"colab-df-quickchart\" onclick=\"quickchart('df-260ed36e-99df-4d30-8097-3b8a702164ed')\"\n",
              "            title=\"Suggest charts\"\n",
              "            style=\"display:none;\">\n",
              "\n",
              "<svg xmlns=\"http://www.w3.org/2000/svg\" height=\"24px\"viewBox=\"0 0 24 24\"\n",
              "     width=\"24px\">\n",
              "    <g>\n",
              "        <path d=\"M19 3H5c-1.1 0-2 .9-2 2v14c0 1.1.9 2 2 2h14c1.1 0 2-.9 2-2V5c0-1.1-.9-2-2-2zM9 17H7v-7h2v7zm4 0h-2V7h2v10zm4 0h-2v-4h2v4z\"/>\n",
              "    </g>\n",
              "</svg>\n",
              "  </button>\n",
              "\n",
              "<style>\n",
              "  .colab-df-quickchart {\n",
              "      --bg-color: #E8F0FE;\n",
              "      --fill-color: #1967D2;\n",
              "      --hover-bg-color: #E2EBFA;\n",
              "      --hover-fill-color: #174EA6;\n",
              "      --disabled-fill-color: #AAA;\n",
              "      --disabled-bg-color: #DDD;\n",
              "  }\n",
              "\n",
              "  [theme=dark] .colab-df-quickchart {\n",
              "      --bg-color: #3B4455;\n",
              "      --fill-color: #D2E3FC;\n",
              "      --hover-bg-color: #434B5C;\n",
              "      --hover-fill-color: #FFFFFF;\n",
              "      --disabled-bg-color: #3B4455;\n",
              "      --disabled-fill-color: #666;\n",
              "  }\n",
              "\n",
              "  .colab-df-quickchart {\n",
              "    background-color: var(--bg-color);\n",
              "    border: none;\n",
              "    border-radius: 50%;\n",
              "    cursor: pointer;\n",
              "    display: none;\n",
              "    fill: var(--fill-color);\n",
              "    height: 32px;\n",
              "    padding: 0;\n",
              "    width: 32px;\n",
              "  }\n",
              "\n",
              "  .colab-df-quickchart:hover {\n",
              "    background-color: var(--hover-bg-color);\n",
              "    box-shadow: 0 1px 2px rgba(60, 64, 67, 0.3), 0 1px 3px 1px rgba(60, 64, 67, 0.15);\n",
              "    fill: var(--button-hover-fill-color);\n",
              "  }\n",
              "\n",
              "  .colab-df-quickchart-complete:disabled,\n",
              "  .colab-df-quickchart-complete:disabled:hover {\n",
              "    background-color: var(--disabled-bg-color);\n",
              "    fill: var(--disabled-fill-color);\n",
              "    box-shadow: none;\n",
              "  }\n",
              "\n",
              "  .colab-df-spinner {\n",
              "    border: 2px solid var(--fill-color);\n",
              "    border-color: transparent;\n",
              "    border-bottom-color: var(--fill-color);\n",
              "    animation:\n",
              "      spin 1s steps(1) infinite;\n",
              "  }\n",
              "\n",
              "  @keyframes spin {\n",
              "    0% {\n",
              "      border-color: transparent;\n",
              "      border-bottom-color: var(--fill-color);\n",
              "      border-left-color: var(--fill-color);\n",
              "    }\n",
              "    20% {\n",
              "      border-color: transparent;\n",
              "      border-left-color: var(--fill-color);\n",
              "      border-top-color: var(--fill-color);\n",
              "    }\n",
              "    30% {\n",
              "      border-color: transparent;\n",
              "      border-left-color: var(--fill-color);\n",
              "      border-top-color: var(--fill-color);\n",
              "      border-right-color: var(--fill-color);\n",
              "    }\n",
              "    40% {\n",
              "      border-color: transparent;\n",
              "      border-right-color: var(--fill-color);\n",
              "      border-top-color: var(--fill-color);\n",
              "    }\n",
              "    60% {\n",
              "      border-color: transparent;\n",
              "      border-right-color: var(--fill-color);\n",
              "    }\n",
              "    80% {\n",
              "      border-color: transparent;\n",
              "      border-right-color: var(--fill-color);\n",
              "      border-bottom-color: var(--fill-color);\n",
              "    }\n",
              "    90% {\n",
              "      border-color: transparent;\n",
              "      border-bottom-color: var(--fill-color);\n",
              "    }\n",
              "  }\n",
              "</style>\n",
              "\n",
              "  <script>\n",
              "    async function quickchart(key) {\n",
              "      const quickchartButtonEl =\n",
              "        document.querySelector('#' + key + ' button');\n",
              "      quickchartButtonEl.disabled = true;  // To prevent multiple clicks.\n",
              "      quickchartButtonEl.classList.add('colab-df-spinner');\n",
              "      try {\n",
              "        const charts = await google.colab.kernel.invokeFunction(\n",
              "            'suggestCharts', [key], {});\n",
              "      } catch (error) {\n",
              "        console.error('Error during call to suggestCharts:', error);\n",
              "      }\n",
              "      quickchartButtonEl.classList.remove('colab-df-spinner');\n",
              "      quickchartButtonEl.classList.add('colab-df-quickchart-complete');\n",
              "    }\n",
              "    (() => {\n",
              "      let quickchartButtonEl =\n",
              "        document.querySelector('#df-260ed36e-99df-4d30-8097-3b8a702164ed button');\n",
              "      quickchartButtonEl.style.display =\n",
              "        google.colab.kernel.accessAllowed ? 'block' : 'none';\n",
              "    })();\n",
              "  </script>\n",
              "</div>\n",
              "    </div>\n",
              "  </div>\n"
            ],
            "text/plain": [
              "   timestep_time  vehicle_angle       vehicle_id vehicle_lane  vehicle_pos  \\\n",
              "0        14400.0            NaN              NaN          NaN          NaN   \n",
              "1        14405.0          80.89  bus_M1:France.0     152927_1        12.10   \n",
              "2        14410.0          71.94  bus_M1:France.0     152927_1        23.63   \n",
              "3        14415.0          57.57  bus_M1:France.0     152927_1        57.99   \n",
              "4        14420.0          32.10  bus_M1:France.0     152927_1       113.32   \n",
              "\n",
              "   vehicle_slope  vehicle_speed vehicle_type  vehicle_x  vehicle_y  vehicle_z  \\\n",
              "0            NaN            NaN          NaN        NaN        NaN        NaN   \n",
              "1           3.01           0.00          bus    1085.69     197.96      54.34   \n",
              "2           1.31           3.97          bus    1096.59     201.56      54.75   \n",
              "3           0.66           8.49          bus    1126.83     217.57      55.32   \n",
              "4           0.63          12.78          bus    1167.22     253.89      55.41   \n",
              "\n",
              "   person_angle person_edge person_id  person_pos  person_slope  person_speed  \\\n",
              "0           NaN         NaN       NaN         NaN           NaN           NaN   \n",
              "1           NaN         NaN       NaN         NaN           NaN           NaN   \n",
              "2           NaN         NaN       NaN         NaN           NaN           NaN   \n",
              "3           NaN         NaN       NaN         NaN           NaN           NaN   \n",
              "4           NaN         NaN       NaN         NaN           NaN           NaN   \n",
              "\n",
              "   person_x  person_y  person_z  \n",
              "0       NaN       NaN       NaN  \n",
              "1       NaN       NaN       NaN  \n",
              "2       NaN       NaN       NaN  \n",
              "3       NaN       NaN       NaN  \n",
              "4       NaN       NaN       NaN  "
            ]
          },
          "execution_count": 11,
          "metadata": {},
          "output_type": "execute_result"
        }
      ],
      "source": [
        "raw_df.head()"
      ]
    },
    {
      "cell_type": "code",
      "execution_count": 12,
      "metadata": {
        "colab": {
          "base_uri": "https://localhost:8080/",
          "height": 337
        },
        "id": "7UbLJMdcSC7y",
        "outputId": "bbc8f273-89b0-4bf6-ab2b-1ee8a5dc18a7"
      },
      "outputs": [
        {
          "data": {
            "application/vnd.google.colaboratory.intrinsic+json": {
              "summary": "{\n  \"name\": \"raw_df\",\n  \"rows\": 8,\n  \"fields\": [\n    {\n      \"column\": \"timestep_time\",\n      \"properties\": {\n        \"dtype\": \"number\",\n        \"std\": 724986.5673177505,\n        \"min\": 977.9871874702842,\n        \"max\": 2067350.0,\n        \"num_unique_values\": 8,\n        \"samples\": [\n          20211.32494497787,\n          20355.0,\n          2067350.0\n        ],\n        \"semantic_type\": \"\",\n        \"description\": \"\"\n      }\n    },\n    {\n      \"column\": \"vehicle_angle\",\n      \"properties\": {\n        \"dtype\": \"number\",\n        \"std\": 434415.6933502974,\n        \"min\": 0.0,\n        \"max\": 1228876.0,\n        \"num_unique_values\": 8,\n        \"samples\": [\n          170.22818516270152,\n          196.88,\n          1228876.0\n        ],\n        \"semantic_type\": \"\",\n        \"description\": \"\"\n      }\n    },\n    {\n      \"column\": \"vehicle_pos\",\n      \"properties\": {\n        \"dtype\": \"number\",\n        \"std\": 433780.83079604653,\n        \"min\": 0.0,\n        \"max\": 1228876.0,\n        \"num_unique_values\": 8,\n        \"samples\": [\n          183.20309350984144,\n          43.6,\n          1228876.0\n        ],\n        \"semantic_type\": \"\",\n        \"description\": \"\"\n      }\n    },\n    {\n      \"column\": \"vehicle_slope\",\n      \"properties\": {\n        \"dtype\": \"number\",\n        \"std\": 434473.0681818409,\n        \"min\": -88.73,\n        \"max\": 1228876.0,\n        \"num_unique_values\": 8,\n        \"samples\": [\n          -0.6081238627819243,\n          0.0,\n          1228876.0\n        ],\n        \"semantic_type\": \"\",\n        \"description\": \"\"\n      }\n    },\n    {\n      \"column\": \"vehicle_speed\",\n      \"properties\": {\n        \"dtype\": \"number\",\n        \"std\": 434469.09465220396,\n        \"min\": 0.0,\n        \"max\": 1228876.0,\n        \"num_unique_values\": 8,\n        \"samples\": [\n          5.878739620596379,\n          2.18,\n          1228876.0\n        ],\n        \"semantic_type\": \"\",\n        \"description\": \"\"\n      }\n    },\n    {\n      \"column\": \"vehicle_x\",\n      \"properties\": {\n        \"dtype\": \"number\",\n        \"std\": 432990.18237802945,\n        \"min\": -0.21,\n        \"max\": 1228876.0,\n        \"num_unique_values\": 8,\n        \"samples\": [\n          4394.096424944418,\n          4513.73,\n          1228876.0\n        ],\n        \"semantic_type\": \"\",\n        \"description\": \"\"\n      }\n    },\n    {\n      \"column\": \"vehicle_y\",\n      \"properties\": {\n        \"dtype\": \"number\",\n        \"std\": 433701.5325203816,\n        \"min\": 93.46,\n        \"max\": 1228876.0,\n        \"num_unique_values\": 8,\n        \"samples\": [\n          2036.8201484527347,\n          1859.05,\n          1228876.0\n        ],\n        \"semantic_type\": \"\",\n        \"description\": \"\"\n      }\n    },\n    {\n      \"column\": \"vehicle_z\",\n      \"properties\": {\n        \"dtype\": \"number\",\n        \"std\": 434422.84910725884,\n        \"min\": 0.0,\n        \"max\": 1228876.0,\n        \"num_unique_values\": 8,\n        \"samples\": [\n          97.45692644335142,\n          61.08,\n          1228876.0\n        ],\n        \"semantic_type\": \"\",\n        \"description\": \"\"\n      }\n    },\n    {\n      \"column\": \"person_angle\",\n      \"properties\": {\n        \"dtype\": \"number\",\n        \"std\": 296389.9863668292,\n        \"min\": 0.0,\n        \"max\": 838473.0,\n        \"num_unique_values\": 8,\n        \"samples\": [\n          161.218636235156,\n          157.55,\n          838473.0\n        ],\n        \"semantic_type\": \"\",\n        \"description\": \"\"\n      }\n    },\n    {\n      \"column\": \"person_pos\",\n      \"properties\": {\n        \"dtype\": \"number\",\n        \"std\": 296022.88496277353,\n        \"min\": 0.0,\n        \"max\": 837976.0,\n        \"num_unique_values\": 8,\n        \"samples\": [\n          181.4592657426943,\n          51.95,\n          837976.0\n        ],\n        \"semantic_type\": \"\",\n        \"description\": \"\"\n      }\n    },\n    {\n      \"column\": \"person_slope\",\n      \"properties\": {\n        \"dtype\": \"number\",\n        \"std\": 296444.6891739416,\n        \"min\": -90.0,\n        \"max\": 838473.0,\n        \"num_unique_values\": 8,\n        \"samples\": [\n          -0.3534502721017852,\n          0.0,\n          838473.0\n        ],\n        \"semantic_type\": \"\",\n        \"description\": \"\"\n      }\n    },\n    {\n      \"column\": \"person_speed\",\n      \"properties\": {\n        \"dtype\": \"number\",\n        \"std\": 296265.53462981794,\n        \"min\": 0.0,\n        \"max\": 837977.0,\n        \"num_unique_values\": 8,\n        \"samples\": [\n          7.413234217645593,\n          6.9,\n          837977.0\n        ],\n        \"semantic_type\": \"\",\n        \"description\": \"\"\n      }\n    },\n    {\n      \"column\": \"person_x\",\n      \"properties\": {\n        \"dtype\": \"number\",\n        \"std\": 294985.0783617128,\n        \"min\": -0.21,\n        \"max\": 838473.0,\n        \"num_unique_values\": 8,\n        \"samples\": [\n          4313.035494046915,\n          4461.74,\n          838473.0\n        ],\n        \"semantic_type\": \"\",\n        \"description\": \"\"\n      }\n    },\n    {\n      \"column\": \"person_y\",\n      \"properties\": {\n        \"dtype\": \"number\",\n        \"std\": 295656.8170440994,\n        \"min\": 93.46,\n        \"max\": 838473.0,\n        \"num_unique_values\": 8,\n        \"samples\": [\n          2069.4193623050473,\n          1935.2,\n          838473.0\n        ],\n        \"semantic_type\": \"\",\n        \"description\": \"\"\n      }\n    },\n    {\n      \"column\": \"person_z\",\n      \"properties\": {\n        \"dtype\": \"number\",\n        \"std\": 296393.2553356518,\n        \"min\": -0.08,\n        \"max\": 838473.0,\n        \"num_unique_values\": 8,\n        \"samples\": [\n          109.38062631712653,\n          67.8,\n          838473.0\n        ],\n        \"semantic_type\": \"\",\n        \"description\": \"\"\n      }\n    }\n  ]\n}",
              "type": "dataframe"
            },
            "text/html": [
              "\n",
              "  <div id=\"df-28bc9572-6e00-4271-b2a4-3eb96da39c94\" class=\"colab-df-container\">\n",
              "    <div>\n",
              "<style scoped>\n",
              "    .dataframe tbody tr th:only-of-type {\n",
              "        vertical-align: middle;\n",
              "    }\n",
              "\n",
              "    .dataframe tbody tr th {\n",
              "        vertical-align: top;\n",
              "    }\n",
              "\n",
              "    .dataframe thead th {\n",
              "        text-align: right;\n",
              "    }\n",
              "</style>\n",
              "<table border=\"1\" class=\"dataframe\">\n",
              "  <thead>\n",
              "    <tr style=\"text-align: right;\">\n",
              "      <th></th>\n",
              "      <th>timestep_time</th>\n",
              "      <th>vehicle_angle</th>\n",
              "      <th>vehicle_pos</th>\n",
              "      <th>vehicle_slope</th>\n",
              "      <th>vehicle_speed</th>\n",
              "      <th>vehicle_x</th>\n",
              "      <th>vehicle_y</th>\n",
              "      <th>vehicle_z</th>\n",
              "      <th>person_angle</th>\n",
              "      <th>person_pos</th>\n",
              "      <th>person_slope</th>\n",
              "      <th>person_speed</th>\n",
              "      <th>person_x</th>\n",
              "      <th>person_y</th>\n",
              "      <th>person_z</th>\n",
              "    </tr>\n",
              "  </thead>\n",
              "  <tbody>\n",
              "    <tr>\n",
              "      <th>count</th>\n",
              "      <td>2.067350e+06</td>\n",
              "      <td>1.228876e+06</td>\n",
              "      <td>1.228876e+06</td>\n",
              "      <td>1.228876e+06</td>\n",
              "      <td>1.228876e+06</td>\n",
              "      <td>1.228876e+06</td>\n",
              "      <td>1.228876e+06</td>\n",
              "      <td>1.228876e+06</td>\n",
              "      <td>838473.000000</td>\n",
              "      <td>837976.000000</td>\n",
              "      <td>838473.000000</td>\n",
              "      <td>837977.000000</td>\n",
              "      <td>838473.000000</td>\n",
              "      <td>838473.000000</td>\n",
              "      <td>838473.000000</td>\n",
              "    </tr>\n",
              "    <tr>\n",
              "      <th>mean</th>\n",
              "      <td>2.021132e+04</td>\n",
              "      <td>1.702282e+02</td>\n",
              "      <td>1.832031e+02</td>\n",
              "      <td>-6.081239e-01</td>\n",
              "      <td>5.878740e+00</td>\n",
              "      <td>4.394096e+03</td>\n",
              "      <td>2.036820e+03</td>\n",
              "      <td>9.745693e+01</td>\n",
              "      <td>161.218636</td>\n",
              "      <td>181.459266</td>\n",
              "      <td>-0.353450</td>\n",
              "      <td>7.413234</td>\n",
              "      <td>4313.035494</td>\n",
              "      <td>2069.419362</td>\n",
              "      <td>109.380626</td>\n",
              "    </tr>\n",
              "    <tr>\n",
              "      <th>std</th>\n",
              "      <td>9.779872e+02</td>\n",
              "      <td>9.915551e+01</td>\n",
              "      <td>5.781648e+02</td>\n",
              "      <td>5.173104e+00</td>\n",
              "      <td>6.913619e+00</td>\n",
              "      <td>1.581162e+03</td>\n",
              "      <td>1.031879e+03</td>\n",
              "      <td>1.157750e+02</td>\n",
              "      <td>100.731614</td>\n",
              "      <td>355.824890</td>\n",
              "      <td>6.752039</td>\n",
              "      <td>6.224017</td>\n",
              "      <td>1748.461993</td>\n",
              "      <td>1075.116513</td>\n",
              "      <td>120.228287</td>\n",
              "    </tr>\n",
              "    <tr>\n",
              "      <th>min</th>\n",
              "      <td>1.440000e+04</td>\n",
              "      <td>0.000000e+00</td>\n",
              "      <td>0.000000e+00</td>\n",
              "      <td>-8.873000e+01</td>\n",
              "      <td>0.000000e+00</td>\n",
              "      <td>-2.100000e-01</td>\n",
              "      <td>9.346000e+01</td>\n",
              "      <td>0.000000e+00</td>\n",
              "      <td>0.000000</td>\n",
              "      <td>0.000000</td>\n",
              "      <td>-90.000000</td>\n",
              "      <td>0.000000</td>\n",
              "      <td>-0.210000</td>\n",
              "      <td>93.460000</td>\n",
              "      <td>-0.080000</td>\n",
              "    </tr>\n",
              "    <tr>\n",
              "      <th>25%</th>\n",
              "      <td>1.952500e+04</td>\n",
              "      <td>8.179000e+01</td>\n",
              "      <td>1.553000e+01</td>\n",
              "      <td>-2.750000e+00</td>\n",
              "      <td>3.000000e-02</td>\n",
              "      <td>3.935520e+03</td>\n",
              "      <td>1.313255e+03</td>\n",
              "      <td>2.073000e+01</td>\n",
              "      <td>69.470000</td>\n",
              "      <td>13.380000</td>\n",
              "      <td>-2.250000</td>\n",
              "      <td>1.190000</td>\n",
              "      <td>3548.030000</td>\n",
              "      <td>1338.410000</td>\n",
              "      <td>26.250000</td>\n",
              "    </tr>\n",
              "    <tr>\n",
              "      <th>50%</th>\n",
              "      <td>2.035500e+04</td>\n",
              "      <td>1.968800e+02</td>\n",
              "      <td>4.360000e+01</td>\n",
              "      <td>0.000000e+00</td>\n",
              "      <td>2.180000e+00</td>\n",
              "      <td>4.513730e+03</td>\n",
              "      <td>1.859050e+03</td>\n",
              "      <td>6.108000e+01</td>\n",
              "      <td>157.550000</td>\n",
              "      <td>51.950000</td>\n",
              "      <td>0.000000</td>\n",
              "      <td>6.900000</td>\n",
              "      <td>4461.740000</td>\n",
              "      <td>1935.200000</td>\n",
              "      <td>67.800000</td>\n",
              "    </tr>\n",
              "    <tr>\n",
              "      <th>75%</th>\n",
              "      <td>2.102500e+04</td>\n",
              "      <td>2.323100e+02</td>\n",
              "      <td>1.335425e+02</td>\n",
              "      <td>1.090000e+00</td>\n",
              "      <td>1.233000e+01</td>\n",
              "      <td>5.155550e+03</td>\n",
              "      <td>2.665060e+03</td>\n",
              "      <td>1.069800e+02</td>\n",
              "      <td>240.100000</td>\n",
              "      <td>159.620000</td>\n",
              "      <td>1.530000</td>\n",
              "      <td>12.870000</td>\n",
              "      <td>5136.770000</td>\n",
              "      <td>2852.400000</td>\n",
              "      <td>126.250000</td>\n",
              "    </tr>\n",
              "    <tr>\n",
              "      <th>max</th>\n",
              "      <td>2.159500e+04</td>\n",
              "      <td>3.599900e+02</td>\n",
              "      <td>1.323421e+04</td>\n",
              "      <td>9.000000e+01</td>\n",
              "      <td>5.547000e+01</td>\n",
              "      <td>9.976570e+03</td>\n",
              "      <td>6.359290e+03</td>\n",
              "      <td>5.972100e+02</td>\n",
              "      <td>359.990000</td>\n",
              "      <td>4183.480000</td>\n",
              "      <td>90.000000</td>\n",
              "      <td>46.090000</td>\n",
              "      <td>9976.570000</td>\n",
              "      <td>6356.520000</td>\n",
              "      <td>575.200000</td>\n",
              "    </tr>\n",
              "  </tbody>\n",
              "</table>\n",
              "</div>\n",
              "    <div class=\"colab-df-buttons\">\n",
              "\n",
              "  <div class=\"colab-df-container\">\n",
              "    <button class=\"colab-df-convert\" onclick=\"convertToInteractive('df-28bc9572-6e00-4271-b2a4-3eb96da39c94')\"\n",
              "            title=\"Convert this dataframe to an interactive table.\"\n",
              "            style=\"display:none;\">\n",
              "\n",
              "  <svg xmlns=\"http://www.w3.org/2000/svg\" height=\"24px\" viewBox=\"0 -960 960 960\">\n",
              "    <path d=\"M120-120v-720h720v720H120Zm60-500h600v-160H180v160Zm220 220h160v-160H400v160Zm0 220h160v-160H400v160ZM180-400h160v-160H180v160Zm440 0h160v-160H620v160ZM180-180h160v-160H180v160Zm440 0h160v-160H620v160Z\"/>\n",
              "  </svg>\n",
              "    </button>\n",
              "\n",
              "  <style>\n",
              "    .colab-df-container {\n",
              "      display:flex;\n",
              "      gap: 12px;\n",
              "    }\n",
              "\n",
              "    .colab-df-convert {\n",
              "      background-color: #E8F0FE;\n",
              "      border: none;\n",
              "      border-radius: 50%;\n",
              "      cursor: pointer;\n",
              "      display: none;\n",
              "      fill: #1967D2;\n",
              "      height: 32px;\n",
              "      padding: 0 0 0 0;\n",
              "      width: 32px;\n",
              "    }\n",
              "\n",
              "    .colab-df-convert:hover {\n",
              "      background-color: #E2EBFA;\n",
              "      box-shadow: 0px 1px 2px rgba(60, 64, 67, 0.3), 0px 1px 3px 1px rgba(60, 64, 67, 0.15);\n",
              "      fill: #174EA6;\n",
              "    }\n",
              "\n",
              "    .colab-df-buttons div {\n",
              "      margin-bottom: 4px;\n",
              "    }\n",
              "\n",
              "    [theme=dark] .colab-df-convert {\n",
              "      background-color: #3B4455;\n",
              "      fill: #D2E3FC;\n",
              "    }\n",
              "\n",
              "    [theme=dark] .colab-df-convert:hover {\n",
              "      background-color: #434B5C;\n",
              "      box-shadow: 0px 1px 3px 1px rgba(0, 0, 0, 0.15);\n",
              "      filter: drop-shadow(0px 1px 2px rgba(0, 0, 0, 0.3));\n",
              "      fill: #FFFFFF;\n",
              "    }\n",
              "  </style>\n",
              "\n",
              "    <script>\n",
              "      const buttonEl =\n",
              "        document.querySelector('#df-28bc9572-6e00-4271-b2a4-3eb96da39c94 button.colab-df-convert');\n",
              "      buttonEl.style.display =\n",
              "        google.colab.kernel.accessAllowed ? 'block' : 'none';\n",
              "\n",
              "      async function convertToInteractive(key) {\n",
              "        const element = document.querySelector('#df-28bc9572-6e00-4271-b2a4-3eb96da39c94');\n",
              "        const dataTable =\n",
              "          await google.colab.kernel.invokeFunction('convertToInteractive',\n",
              "                                                    [key], {});\n",
              "        if (!dataTable) return;\n",
              "\n",
              "        const docLinkHtml = 'Like what you see? Visit the ' +\n",
              "          '<a target=\"_blank\" href=https://colab.research.google.com/notebooks/data_table.ipynb>data table notebook</a>'\n",
              "          + ' to learn more about interactive tables.';\n",
              "        element.innerHTML = '';\n",
              "        dataTable['output_type'] = 'display_data';\n",
              "        await google.colab.output.renderOutput(dataTable, element);\n",
              "        const docLink = document.createElement('div');\n",
              "        docLink.innerHTML = docLinkHtml;\n",
              "        element.appendChild(docLink);\n",
              "      }\n",
              "    </script>\n",
              "  </div>\n",
              "\n",
              "\n",
              "<div id=\"df-79cb6102-6a56-4273-a63b-b56044601520\">\n",
              "  <button class=\"colab-df-quickchart\" onclick=\"quickchart('df-79cb6102-6a56-4273-a63b-b56044601520')\"\n",
              "            title=\"Suggest charts\"\n",
              "            style=\"display:none;\">\n",
              "\n",
              "<svg xmlns=\"http://www.w3.org/2000/svg\" height=\"24px\"viewBox=\"0 0 24 24\"\n",
              "     width=\"24px\">\n",
              "    <g>\n",
              "        <path d=\"M19 3H5c-1.1 0-2 .9-2 2v14c0 1.1.9 2 2 2h14c1.1 0 2-.9 2-2V5c0-1.1-.9-2-2-2zM9 17H7v-7h2v7zm4 0h-2V7h2v10zm4 0h-2v-4h2v4z\"/>\n",
              "    </g>\n",
              "</svg>\n",
              "  </button>\n",
              "\n",
              "<style>\n",
              "  .colab-df-quickchart {\n",
              "      --bg-color: #E8F0FE;\n",
              "      --fill-color: #1967D2;\n",
              "      --hover-bg-color: #E2EBFA;\n",
              "      --hover-fill-color: #174EA6;\n",
              "      --disabled-fill-color: #AAA;\n",
              "      --disabled-bg-color: #DDD;\n",
              "  }\n",
              "\n",
              "  [theme=dark] .colab-df-quickchart {\n",
              "      --bg-color: #3B4455;\n",
              "      --fill-color: #D2E3FC;\n",
              "      --hover-bg-color: #434B5C;\n",
              "      --hover-fill-color: #FFFFFF;\n",
              "      --disabled-bg-color: #3B4455;\n",
              "      --disabled-fill-color: #666;\n",
              "  }\n",
              "\n",
              "  .colab-df-quickchart {\n",
              "    background-color: var(--bg-color);\n",
              "    border: none;\n",
              "    border-radius: 50%;\n",
              "    cursor: pointer;\n",
              "    display: none;\n",
              "    fill: var(--fill-color);\n",
              "    height: 32px;\n",
              "    padding: 0;\n",
              "    width: 32px;\n",
              "  }\n",
              "\n",
              "  .colab-df-quickchart:hover {\n",
              "    background-color: var(--hover-bg-color);\n",
              "    box-shadow: 0 1px 2px rgba(60, 64, 67, 0.3), 0 1px 3px 1px rgba(60, 64, 67, 0.15);\n",
              "    fill: var(--button-hover-fill-color);\n",
              "  }\n",
              "\n",
              "  .colab-df-quickchart-complete:disabled,\n",
              "  .colab-df-quickchart-complete:disabled:hover {\n",
              "    background-color: var(--disabled-bg-color);\n",
              "    fill: var(--disabled-fill-color);\n",
              "    box-shadow: none;\n",
              "  }\n",
              "\n",
              "  .colab-df-spinner {\n",
              "    border: 2px solid var(--fill-color);\n",
              "    border-color: transparent;\n",
              "    border-bottom-color: var(--fill-color);\n",
              "    animation:\n",
              "      spin 1s steps(1) infinite;\n",
              "  }\n",
              "\n",
              "  @keyframes spin {\n",
              "    0% {\n",
              "      border-color: transparent;\n",
              "      border-bottom-color: var(--fill-color);\n",
              "      border-left-color: var(--fill-color);\n",
              "    }\n",
              "    20% {\n",
              "      border-color: transparent;\n",
              "      border-left-color: var(--fill-color);\n",
              "      border-top-color: var(--fill-color);\n",
              "    }\n",
              "    30% {\n",
              "      border-color: transparent;\n",
              "      border-left-color: var(--fill-color);\n",
              "      border-top-color: var(--fill-color);\n",
              "      border-right-color: var(--fill-color);\n",
              "    }\n",
              "    40% {\n",
              "      border-color: transparent;\n",
              "      border-right-color: var(--fill-color);\n",
              "      border-top-color: var(--fill-color);\n",
              "    }\n",
              "    60% {\n",
              "      border-color: transparent;\n",
              "      border-right-color: var(--fill-color);\n",
              "    }\n",
              "    80% {\n",
              "      border-color: transparent;\n",
              "      border-right-color: var(--fill-color);\n",
              "      border-bottom-color: var(--fill-color);\n",
              "    }\n",
              "    90% {\n",
              "      border-color: transparent;\n",
              "      border-bottom-color: var(--fill-color);\n",
              "    }\n",
              "  }\n",
              "</style>\n",
              "\n",
              "  <script>\n",
              "    async function quickchart(key) {\n",
              "      const quickchartButtonEl =\n",
              "        document.querySelector('#' + key + ' button');\n",
              "      quickchartButtonEl.disabled = true;  // To prevent multiple clicks.\n",
              "      quickchartButtonEl.classList.add('colab-df-spinner');\n",
              "      try {\n",
              "        const charts = await google.colab.kernel.invokeFunction(\n",
              "            'suggestCharts', [key], {});\n",
              "      } catch (error) {\n",
              "        console.error('Error during call to suggestCharts:', error);\n",
              "      }\n",
              "      quickchartButtonEl.classList.remove('colab-df-spinner');\n",
              "      quickchartButtonEl.classList.add('colab-df-quickchart-complete');\n",
              "    }\n",
              "    (() => {\n",
              "      let quickchartButtonEl =\n",
              "        document.querySelector('#df-79cb6102-6a56-4273-a63b-b56044601520 button');\n",
              "      quickchartButtonEl.style.display =\n",
              "        google.colab.kernel.accessAllowed ? 'block' : 'none';\n",
              "    })();\n",
              "  </script>\n",
              "</div>\n",
              "    </div>\n",
              "  </div>\n"
            ],
            "text/plain": [
              "       timestep_time  vehicle_angle   vehicle_pos  vehicle_slope  \\\n",
              "count   2.067350e+06   1.228876e+06  1.228876e+06   1.228876e+06   \n",
              "mean    2.021132e+04   1.702282e+02  1.832031e+02  -6.081239e-01   \n",
              "std     9.779872e+02   9.915551e+01  5.781648e+02   5.173104e+00   \n",
              "min     1.440000e+04   0.000000e+00  0.000000e+00  -8.873000e+01   \n",
              "25%     1.952500e+04   8.179000e+01  1.553000e+01  -2.750000e+00   \n",
              "50%     2.035500e+04   1.968800e+02  4.360000e+01   0.000000e+00   \n",
              "75%     2.102500e+04   2.323100e+02  1.335425e+02   1.090000e+00   \n",
              "max     2.159500e+04   3.599900e+02  1.323421e+04   9.000000e+01   \n",
              "\n",
              "       vehicle_speed     vehicle_x     vehicle_y     vehicle_z   person_angle  \\\n",
              "count   1.228876e+06  1.228876e+06  1.228876e+06  1.228876e+06  838473.000000   \n",
              "mean    5.878740e+00  4.394096e+03  2.036820e+03  9.745693e+01     161.218636   \n",
              "std     6.913619e+00  1.581162e+03  1.031879e+03  1.157750e+02     100.731614   \n",
              "min     0.000000e+00 -2.100000e-01  9.346000e+01  0.000000e+00       0.000000   \n",
              "25%     3.000000e-02  3.935520e+03  1.313255e+03  2.073000e+01      69.470000   \n",
              "50%     2.180000e+00  4.513730e+03  1.859050e+03  6.108000e+01     157.550000   \n",
              "75%     1.233000e+01  5.155550e+03  2.665060e+03  1.069800e+02     240.100000   \n",
              "max     5.547000e+01  9.976570e+03  6.359290e+03  5.972100e+02     359.990000   \n",
              "\n",
              "          person_pos   person_slope   person_speed       person_x  \\\n",
              "count  837976.000000  838473.000000  837977.000000  838473.000000   \n",
              "mean      181.459266      -0.353450       7.413234    4313.035494   \n",
              "std       355.824890       6.752039       6.224017    1748.461993   \n",
              "min         0.000000     -90.000000       0.000000      -0.210000   \n",
              "25%        13.380000      -2.250000       1.190000    3548.030000   \n",
              "50%        51.950000       0.000000       6.900000    4461.740000   \n",
              "75%       159.620000       1.530000      12.870000    5136.770000   \n",
              "max      4183.480000      90.000000      46.090000    9976.570000   \n",
              "\n",
              "            person_y       person_z  \n",
              "count  838473.000000  838473.000000  \n",
              "mean     2069.419362     109.380626  \n",
              "std      1075.116513     120.228287  \n",
              "min        93.460000      -0.080000  \n",
              "25%      1338.410000      26.250000  \n",
              "50%      1935.200000      67.800000  \n",
              "75%      2852.400000     126.250000  \n",
              "max      6356.520000     575.200000  "
            ]
          },
          "execution_count": 12,
          "metadata": {},
          "output_type": "execute_result"
        }
      ],
      "source": [
        "raw_df.describe()"
      ]
    },
    {
      "cell_type": "code",
      "execution_count": 13,
      "metadata": {
        "colab": {
          "base_uri": "https://localhost:8080/"
        },
        "id": "v6zVUMUpT1iD",
        "outputId": "dcc5ed03-6462-41a0-dbf6-810a7ec1fd01"
      },
      "outputs": [
        {
          "data": {
            "text/plain": [
              "0"
            ]
          },
          "execution_count": 13,
          "metadata": {},
          "output_type": "execute_result"
        }
      ],
      "source": [
        "# Check for duplicate rows\n",
        "raw_df.duplicated().sum()"
      ]
    },
    {
      "cell_type": "code",
      "execution_count": 14,
      "metadata": {
        "colab": {
          "base_uri": "https://localhost:8080/"
        },
        "id": "7_pc8bsGT2bR",
        "outputId": "c196dbc6-2fa8-4807-9eba-55acfc95f485"
      },
      "outputs": [
        {
          "data": {
            "text/plain": [
              "timestep_time          0\n",
              "vehicle_angle     838474\n",
              "vehicle_id        838474\n",
              "vehicle_lane      838474\n",
              "vehicle_pos       838474\n",
              "vehicle_slope     838474\n",
              "vehicle_speed     838474\n",
              "vehicle_type      838474\n",
              "vehicle_x         838474\n",
              "vehicle_y         838474\n",
              "vehicle_z         838474\n",
              "person_angle     1228877\n",
              "person_edge      1228877\n",
              "person_id        1228877\n",
              "person_pos       1229374\n",
              "person_slope     1228877\n",
              "person_speed     1229373\n",
              "person_x         1228877\n",
              "person_y         1228877\n",
              "person_z         1228877\n",
              "dtype: int64"
            ]
          },
          "execution_count": 14,
          "metadata": {},
          "output_type": "execute_result"
        }
      ],
      "source": [
        "# Check for null values\n",
        "raw_df.isnull().sum()"
      ]
    },
    {
      "cell_type": "markdown",
      "metadata": {
        "id": "ioIhz1-CT9GH"
      },
      "source": [
        "# Data Preprocessing"
      ]
    },
    {
      "cell_type": "markdown",
      "metadata": {
        "id": "uCEoI7J8UDtT"
      },
      "source": [
        "## 1. Keep only the relevant columns"
      ]
    },
    {
      "cell_type": "markdown",
      "metadata": {
        "id": "RIJxd4FlUDxG"
      },
      "source": [
        "- `vehicle_id` – a unique object identifier\n",
        "- `timestep_time` [s] – the current simulation time (0 corresponds to the beginning of the day)\n",
        "- `vehicle_speed` [m/s] – absolute speed of the object\n",
        "- `vehicle_angle` [°] – orientation of the object in navigational standard (0-360°)\n",
        "- `vehicle_x` [m] – absolute x coordinate / longitude of the object\n",
        "- `vehicle_y` [m] – absolute y coordinate / latitude of the object\n",
        "- `vehicle_z` [m] – elevation of the object\n",
        "- `vehicle_type` – the type of the vehicle (private vehicle, Uber, delivery truck etc.)"
      ]
    },
    {
      "cell_type": "code",
      "execution_count": 118,
      "metadata": {
        "colab": {
          "base_uri": "https://localhost:8080/"
        },
        "id": "V0mTJMdeT2ja",
        "outputId": "8d893aba-d98c-4b3c-dd5e-74f09795251c"
      },
      "outputs": [
        {
          "name": "stdout",
          "output_type": "stream",
          "text": [
            "<class 'pandas.core.frame.DataFrame'>\n",
            "RangeIndex: 2067350 entries, 0 to 2067349\n",
            "Data columns (total 8 columns):\n",
            " #   Column         Dtype  \n",
            "---  ------         -----  \n",
            " 0   vehicle_id     object \n",
            " 1   vehicle_type   object \n",
            " 2   vehicle_speed  float64\n",
            " 3   vehicle_angle  float64\n",
            " 4   vehicle_x      float64\n",
            " 5   vehicle_y      float64\n",
            " 6   vehicle_z      float64\n",
            " 7   timestep_time  float64\n",
            "dtypes: float64(6), object(2)\n",
            "memory usage: 126.2+ MB\n"
          ]
        }
      ],
      "source": [
        "df = raw_df[COLS_TO_KEEP]\n",
        "df.info()"
      ]
    },
    {
      "cell_type": "markdown",
      "metadata": {
        "id": "edLv6o3RUOA2"
      },
      "source": [
        "## 2. Drop duplicate rows"
      ]
    },
    {
      "cell_type": "code",
      "execution_count": 119,
      "metadata": {
        "colab": {
          "base_uri": "https://localhost:8080/"
        },
        "id": "2NfNklzEVCU8",
        "outputId": "1ee96ae3-e761-472a-e5e4-342be5ad2317"
      },
      "outputs": [
        {
          "name": "stdout",
          "output_type": "stream",
          "text": [
            "837754\n"
          ]
        }
      ],
      "source": [
        "# Check for duplicate rows\n",
        "print(df.duplicated().sum())"
      ]
    },
    {
      "cell_type": "code",
      "execution_count": 120,
      "metadata": {
        "colab": {
          "base_uri": "https://localhost:8080/"
        },
        "id": "UIa1wX_zT2mM",
        "outputId": "93067dc9-9680-413b-815c-c0fd2627e425"
      },
      "outputs": [
        {
          "name": "stdout",
          "output_type": "stream",
          "text": [
            "837754 duplicate rows dropped. 1229596 rows remain.\n"
          ]
        }
      ],
      "source": [
        "# Drop duplicate rows\n",
        "bef = len(df)\n",
        "df = df.drop_duplicates()\n",
        "aft = len(df)\n",
        "print(f\"{bef - aft} duplicate rows dropped. {aft} rows remain.\")\n",
        "\n",
        "# Sanity check\n",
        "assert(df.duplicated().sum() == 0)"
      ]
    },
    {
      "cell_type": "markdown",
      "metadata": {
        "id": "2klb0u3YUQ1X"
      },
      "source": [
        "## 3. Drop rows with null values"
      ]
    },
    {
      "cell_type": "code",
      "execution_count": 121,
      "metadata": {
        "colab": {
          "base_uri": "https://localhost:8080/"
        },
        "id": "RDXMeqxzVDB_",
        "outputId": "659121fb-119e-4b03-dbd9-527ce35e5944"
      },
      "outputs": [
        {
          "name": "stdout",
          "output_type": "stream",
          "text": [
            "vehicle_id       720\n",
            "vehicle_type     720\n",
            "vehicle_speed    720\n",
            "vehicle_angle    720\n",
            "vehicle_x        720\n",
            "vehicle_y        720\n",
            "vehicle_z        720\n",
            "timestep_time      0\n",
            "dtype: int64\n"
          ]
        }
      ],
      "source": [
        "# Check for null values\n",
        "print(df.isnull().sum())"
      ]
    },
    {
      "cell_type": "code",
      "execution_count": 122,
      "metadata": {
        "colab": {
          "base_uri": "https://localhost:8080/"
        },
        "id": "4MCtmSR8T2oQ",
        "outputId": "cef12452-903f-4328-85cb-5b0feb1f1b63"
      },
      "outputs": [
        {
          "name": "stdout",
          "output_type": "stream",
          "text": [
            "720 rows with null values dropped. 1228876 rows remain.\n"
          ]
        }
      ],
      "source": [
        "# Drop rows with null values\n",
        "bef = len(df)\n",
        "df = df.dropna()\n",
        "aft = len(df)\n",
        "print(f\"{bef - aft} rows with null values dropped. {aft} rows remain.\")\n",
        "\n",
        "# Sanity check\n",
        "assert(all(df.isnull().sum() == 0))"
      ]
    },
    {
      "cell_type": "markdown",
      "metadata": {
        "id": "yVTc-R5NUxAp"
      },
      "source": [
        "## 4. Create datetime col"
      ]
    },
    {
      "cell_type": "code",
      "execution_count": 123,
      "metadata": {
        "id": "w5YlUmOcT2q0"
      },
      "outputs": [],
      "source": [
        "# Create a datetime column by converting UNIX format datetime column\n",
        "df['datetime'] = pd.to_datetime(df['timestep_time'], unit='s')"
      ]
    },
    {
      "cell_type": "code",
      "execution_count": 124,
      "metadata": {
        "colab": {
          "base_uri": "https://localhost:8080/"
        },
        "id": "3paJKEs0Wsp3",
        "outputId": "632ac661-8535-4a5b-918c-08a10efeb769"
      },
      "outputs": [
        {
          "name": "stdout",
          "output_type": "stream",
          "text": [
            "<class 'pandas.core.frame.DataFrame'>\n",
            "RangeIndex: 1228876 entries, 0 to 1228875\n",
            "Data columns (total 9 columns):\n",
            " #   Column         Non-Null Count    Dtype         \n",
            "---  ------         --------------    -----         \n",
            " 0   vehicle_id     1228876 non-null  object        \n",
            " 1   vehicle_type   1228876 non-null  object        \n",
            " 2   vehicle_speed  1228876 non-null  float64       \n",
            " 3   vehicle_angle  1228876 non-null  float64       \n",
            " 4   vehicle_x      1228876 non-null  float64       \n",
            " 5   vehicle_y      1228876 non-null  float64       \n",
            " 6   vehicle_z      1228876 non-null  float64       \n",
            " 7   timestep_time  1228876 non-null  float64       \n",
            " 8   datetime       1228876 non-null  datetime64[ns]\n",
            "dtypes: datetime64[ns](1), float64(6), object(2)\n",
            "memory usage: 84.4+ MB\n"
          ]
        }
      ],
      "source": [
        "# Sort the dataset by vehicle_id and datetime to maintain chronological order\n",
        "df = df.sort_values(by=['vehicle_id', DATETIME_COL]).reset_index(drop=True)\n",
        "df.info()"
      ]
    },
    {
      "cell_type": "code",
      "execution_count": 125,
      "metadata": {
        "colab": {
          "base_uri": "https://localhost:8080/",
          "height": 730
        },
        "id": "HpNdUYJaXQr1",
        "outputId": "4e76cab2-955a-4e1b-cd57-f2c5d1fbb193"
      },
      "outputs": [
        {
          "data": {
            "application/vnd.google.colaboratory.intrinsic+json": {
              "type": "dataframe",
              "variable_name": "df"
            },
            "text/html": [
              "\n",
              "  <div id=\"df-f74df5e7-0c0d-4bd3-988c-dc7466816692\" class=\"colab-df-container\">\n",
              "    <div>\n",
              "<style scoped>\n",
              "    .dataframe tbody tr th:only-of-type {\n",
              "        vertical-align: middle;\n",
              "    }\n",
              "\n",
              "    .dataframe tbody tr th {\n",
              "        vertical-align: top;\n",
              "    }\n",
              "\n",
              "    .dataframe thead th {\n",
              "        text-align: right;\n",
              "    }\n",
              "</style>\n",
              "<table border=\"1\" class=\"dataframe\">\n",
              "  <thead>\n",
              "    <tr style=\"text-align: right;\">\n",
              "      <th></th>\n",
              "      <th>vehicle_id</th>\n",
              "      <th>vehicle_type</th>\n",
              "      <th>vehicle_speed</th>\n",
              "      <th>vehicle_angle</th>\n",
              "      <th>vehicle_x</th>\n",
              "      <th>vehicle_y</th>\n",
              "      <th>vehicle_z</th>\n",
              "      <th>timestep_time</th>\n",
              "      <th>datetime</th>\n",
              "    </tr>\n",
              "  </thead>\n",
              "  <tbody>\n",
              "    <tr>\n",
              "      <th>0</th>\n",
              "      <td>France:Italy.0</td>\n",
              "      <td>hw_trailer</td>\n",
              "      <td>0.00</td>\n",
              "      <td>74.69</td>\n",
              "      <td>75.76</td>\n",
              "      <td>2978.07</td>\n",
              "      <td>385.78</td>\n",
              "      <td>18000.0</td>\n",
              "      <td>1970-01-01 05:00:00</td>\n",
              "    </tr>\n",
              "    <tr>\n",
              "      <th>1</th>\n",
              "      <td>France:Italy.0</td>\n",
              "      <td>hw_trailer</td>\n",
              "      <td>3.77</td>\n",
              "      <td>75.90</td>\n",
              "      <td>86.77</td>\n",
              "      <td>2980.73</td>\n",
              "      <td>386.41</td>\n",
              "      <td>18005.0</td>\n",
              "      <td>1970-01-01 05:00:05</td>\n",
              "    </tr>\n",
              "    <tr>\n",
              "      <th>2</th>\n",
              "      <td>France:Italy.0</td>\n",
              "      <td>hw_trailer</td>\n",
              "      <td>7.79</td>\n",
              "      <td>78.24</td>\n",
              "      <td>116.17</td>\n",
              "      <td>2987.10</td>\n",
              "      <td>388.23</td>\n",
              "      <td>18010.0</td>\n",
              "      <td>1970-01-01 05:00:10</td>\n",
              "    </tr>\n",
              "    <tr>\n",
              "      <th>3</th>\n",
              "      <td>France:Italy.0</td>\n",
              "      <td>hw_trailer</td>\n",
              "      <td>11.98</td>\n",
              "      <td>83.16</td>\n",
              "      <td>167.19</td>\n",
              "      <td>2994.59</td>\n",
              "      <td>391.30</td>\n",
              "      <td>18015.0</td>\n",
              "      <td>1970-01-01 05:00:15</td>\n",
              "    </tr>\n",
              "    <tr>\n",
              "      <th>4</th>\n",
              "      <td>France:Italy.0</td>\n",
              "      <td>hw_trailer</td>\n",
              "      <td>16.58</td>\n",
              "      <td>93.25</td>\n",
              "      <td>239.67</td>\n",
              "      <td>2996.51</td>\n",
              "      <td>395.37</td>\n",
              "      <td>18020.0</td>\n",
              "      <td>1970-01-01 05:00:20</td>\n",
              "    </tr>\n",
              "    <tr>\n",
              "      <th>5</th>\n",
              "      <td>France:Italy.0</td>\n",
              "      <td>hw_trailer</td>\n",
              "      <td>20.39</td>\n",
              "      <td>106.63</td>\n",
              "      <td>331.35</td>\n",
              "      <td>2977.06</td>\n",
              "      <td>401.30</td>\n",
              "      <td>18025.0</td>\n",
              "      <td>1970-01-01 05:00:25</td>\n",
              "    </tr>\n",
              "    <tr>\n",
              "      <th>6</th>\n",
              "      <td>France:Italy.0</td>\n",
              "      <td>hw_trailer</td>\n",
              "      <td>24.18</td>\n",
              "      <td>115.81</td>\n",
              "      <td>435.77</td>\n",
              "      <td>2932.68</td>\n",
              "      <td>405.24</td>\n",
              "      <td>18030.0</td>\n",
              "      <td>1970-01-01 05:00:30</td>\n",
              "    </tr>\n",
              "    <tr>\n",
              "      <th>7</th>\n",
              "      <td>France:Italy.0</td>\n",
              "      <td>hw_trailer</td>\n",
              "      <td>27.59</td>\n",
              "      <td>111.34</td>\n",
              "      <td>555.70</td>\n",
              "      <td>2878.51</td>\n",
              "      <td>409.41</td>\n",
              "      <td>18035.0</td>\n",
              "      <td>1970-01-01 05:00:35</td>\n",
              "    </tr>\n",
              "    <tr>\n",
              "      <th>8</th>\n",
              "      <td>France:Italy.0</td>\n",
              "      <td>hw_trailer</td>\n",
              "      <td>27.64</td>\n",
              "      <td>100.30</td>\n",
              "      <td>688.87</td>\n",
              "      <td>2844.22</td>\n",
              "      <td>411.96</td>\n",
              "      <td>18040.0</td>\n",
              "      <td>1970-01-01 05:00:40</td>\n",
              "    </tr>\n",
              "    <tr>\n",
              "      <th>9</th>\n",
              "      <td>France:Italy.0</td>\n",
              "      <td>hw_trailer</td>\n",
              "      <td>27.53</td>\n",
              "      <td>98.34</td>\n",
              "      <td>824.14</td>\n",
              "      <td>2822.54</td>\n",
              "      <td>412.65</td>\n",
              "      <td>18045.0</td>\n",
              "      <td>1970-01-01 05:00:45</td>\n",
              "    </tr>\n",
              "  </tbody>\n",
              "</table>\n",
              "</div>\n",
              "    <div class=\"colab-df-buttons\">\n",
              "\n",
              "  <div class=\"colab-df-container\">\n",
              "    <button class=\"colab-df-convert\" onclick=\"convertToInteractive('df-f74df5e7-0c0d-4bd3-988c-dc7466816692')\"\n",
              "            title=\"Convert this dataframe to an interactive table.\"\n",
              "            style=\"display:none;\">\n",
              "\n",
              "  <svg xmlns=\"http://www.w3.org/2000/svg\" height=\"24px\" viewBox=\"0 -960 960 960\">\n",
              "    <path d=\"M120-120v-720h720v720H120Zm60-500h600v-160H180v160Zm220 220h160v-160H400v160Zm0 220h160v-160H400v160ZM180-400h160v-160H180v160Zm440 0h160v-160H620v160ZM180-180h160v-160H180v160Zm440 0h160v-160H620v160Z\"/>\n",
              "  </svg>\n",
              "    </button>\n",
              "\n",
              "  <style>\n",
              "    .colab-df-container {\n",
              "      display:flex;\n",
              "      gap: 12px;\n",
              "    }\n",
              "\n",
              "    .colab-df-convert {\n",
              "      background-color: #E8F0FE;\n",
              "      border: none;\n",
              "      border-radius: 50%;\n",
              "      cursor: pointer;\n",
              "      display: none;\n",
              "      fill: #1967D2;\n",
              "      height: 32px;\n",
              "      padding: 0 0 0 0;\n",
              "      width: 32px;\n",
              "    }\n",
              "\n",
              "    .colab-df-convert:hover {\n",
              "      background-color: #E2EBFA;\n",
              "      box-shadow: 0px 1px 2px rgba(60, 64, 67, 0.3), 0px 1px 3px 1px rgba(60, 64, 67, 0.15);\n",
              "      fill: #174EA6;\n",
              "    }\n",
              "\n",
              "    .colab-df-buttons div {\n",
              "      margin-bottom: 4px;\n",
              "    }\n",
              "\n",
              "    [theme=dark] .colab-df-convert {\n",
              "      background-color: #3B4455;\n",
              "      fill: #D2E3FC;\n",
              "    }\n",
              "\n",
              "    [theme=dark] .colab-df-convert:hover {\n",
              "      background-color: #434B5C;\n",
              "      box-shadow: 0px 1px 3px 1px rgba(0, 0, 0, 0.15);\n",
              "      filter: drop-shadow(0px 1px 2px rgba(0, 0, 0, 0.3));\n",
              "      fill: #FFFFFF;\n",
              "    }\n",
              "  </style>\n",
              "\n",
              "    <script>\n",
              "      const buttonEl =\n",
              "        document.querySelector('#df-f74df5e7-0c0d-4bd3-988c-dc7466816692 button.colab-df-convert');\n",
              "      buttonEl.style.display =\n",
              "        google.colab.kernel.accessAllowed ? 'block' : 'none';\n",
              "\n",
              "      async function convertToInteractive(key) {\n",
              "        const element = document.querySelector('#df-f74df5e7-0c0d-4bd3-988c-dc7466816692');\n",
              "        const dataTable =\n",
              "          await google.colab.kernel.invokeFunction('convertToInteractive',\n",
              "                                                    [key], {});\n",
              "        if (!dataTable) return;\n",
              "\n",
              "        const docLinkHtml = 'Like what you see? Visit the ' +\n",
              "          '<a target=\"_blank\" href=https://colab.research.google.com/notebooks/data_table.ipynb>data table notebook</a>'\n",
              "          + ' to learn more about interactive tables.';\n",
              "        element.innerHTML = '';\n",
              "        dataTable['output_type'] = 'display_data';\n",
              "        await google.colab.output.renderOutput(dataTable, element);\n",
              "        const docLink = document.createElement('div');\n",
              "        docLink.innerHTML = docLinkHtml;\n",
              "        element.appendChild(docLink);\n",
              "      }\n",
              "    </script>\n",
              "  </div>\n",
              "\n",
              "\n",
              "<div id=\"df-64cb3fee-e527-4aba-854d-14be580a5ec7\">\n",
              "  <button class=\"colab-df-quickchart\" onclick=\"quickchart('df-64cb3fee-e527-4aba-854d-14be580a5ec7')\"\n",
              "            title=\"Suggest charts\"\n",
              "            style=\"display:none;\">\n",
              "\n",
              "<svg xmlns=\"http://www.w3.org/2000/svg\" height=\"24px\"viewBox=\"0 0 24 24\"\n",
              "     width=\"24px\">\n",
              "    <g>\n",
              "        <path d=\"M19 3H5c-1.1 0-2 .9-2 2v14c0 1.1.9 2 2 2h14c1.1 0 2-.9 2-2V5c0-1.1-.9-2-2-2zM9 17H7v-7h2v7zm4 0h-2V7h2v10zm4 0h-2v-4h2v4z\"/>\n",
              "    </g>\n",
              "</svg>\n",
              "  </button>\n",
              "\n",
              "<style>\n",
              "  .colab-df-quickchart {\n",
              "      --bg-color: #E8F0FE;\n",
              "      --fill-color: #1967D2;\n",
              "      --hover-bg-color: #E2EBFA;\n",
              "      --hover-fill-color: #174EA6;\n",
              "      --disabled-fill-color: #AAA;\n",
              "      --disabled-bg-color: #DDD;\n",
              "  }\n",
              "\n",
              "  [theme=dark] .colab-df-quickchart {\n",
              "      --bg-color: #3B4455;\n",
              "      --fill-color: #D2E3FC;\n",
              "      --hover-bg-color: #434B5C;\n",
              "      --hover-fill-color: #FFFFFF;\n",
              "      --disabled-bg-color: #3B4455;\n",
              "      --disabled-fill-color: #666;\n",
              "  }\n",
              "\n",
              "  .colab-df-quickchart {\n",
              "    background-color: var(--bg-color);\n",
              "    border: none;\n",
              "    border-radius: 50%;\n",
              "    cursor: pointer;\n",
              "    display: none;\n",
              "    fill: var(--fill-color);\n",
              "    height: 32px;\n",
              "    padding: 0;\n",
              "    width: 32px;\n",
              "  }\n",
              "\n",
              "  .colab-df-quickchart:hover {\n",
              "    background-color: var(--hover-bg-color);\n",
              "    box-shadow: 0 1px 2px rgba(60, 64, 67, 0.3), 0 1px 3px 1px rgba(60, 64, 67, 0.15);\n",
              "    fill: var(--button-hover-fill-color);\n",
              "  }\n",
              "\n",
              "  .colab-df-quickchart-complete:disabled,\n",
              "  .colab-df-quickchart-complete:disabled:hover {\n",
              "    background-color: var(--disabled-bg-color);\n",
              "    fill: var(--disabled-fill-color);\n",
              "    box-shadow: none;\n",
              "  }\n",
              "\n",
              "  .colab-df-spinner {\n",
              "    border: 2px solid var(--fill-color);\n",
              "    border-color: transparent;\n",
              "    border-bottom-color: var(--fill-color);\n",
              "    animation:\n",
              "      spin 1s steps(1) infinite;\n",
              "  }\n",
              "\n",
              "  @keyframes spin {\n",
              "    0% {\n",
              "      border-color: transparent;\n",
              "      border-bottom-color: var(--fill-color);\n",
              "      border-left-color: var(--fill-color);\n",
              "    }\n",
              "    20% {\n",
              "      border-color: transparent;\n",
              "      border-left-color: var(--fill-color);\n",
              "      border-top-color: var(--fill-color);\n",
              "    }\n",
              "    30% {\n",
              "      border-color: transparent;\n",
              "      border-left-color: var(--fill-color);\n",
              "      border-top-color: var(--fill-color);\n",
              "      border-right-color: var(--fill-color);\n",
              "    }\n",
              "    40% {\n",
              "      border-color: transparent;\n",
              "      border-right-color: var(--fill-color);\n",
              "      border-top-color: var(--fill-color);\n",
              "    }\n",
              "    60% {\n",
              "      border-color: transparent;\n",
              "      border-right-color: var(--fill-color);\n",
              "    }\n",
              "    80% {\n",
              "      border-color: transparent;\n",
              "      border-right-color: var(--fill-color);\n",
              "      border-bottom-color: var(--fill-color);\n",
              "    }\n",
              "    90% {\n",
              "      border-color: transparent;\n",
              "      border-bottom-color: var(--fill-color);\n",
              "    }\n",
              "  }\n",
              "</style>\n",
              "\n",
              "  <script>\n",
              "    async function quickchart(key) {\n",
              "      const quickchartButtonEl =\n",
              "        document.querySelector('#' + key + ' button');\n",
              "      quickchartButtonEl.disabled = true;  // To prevent multiple clicks.\n",
              "      quickchartButtonEl.classList.add('colab-df-spinner');\n",
              "      try {\n",
              "        const charts = await google.colab.kernel.invokeFunction(\n",
              "            'suggestCharts', [key], {});\n",
              "      } catch (error) {\n",
              "        console.error('Error during call to suggestCharts:', error);\n",
              "      }\n",
              "      quickchartButtonEl.classList.remove('colab-df-spinner');\n",
              "      quickchartButtonEl.classList.add('colab-df-quickchart-complete');\n",
              "    }\n",
              "    (() => {\n",
              "      let quickchartButtonEl =\n",
              "        document.querySelector('#df-64cb3fee-e527-4aba-854d-14be580a5ec7 button');\n",
              "      quickchartButtonEl.style.display =\n",
              "        google.colab.kernel.accessAllowed ? 'block' : 'none';\n",
              "    })();\n",
              "  </script>\n",
              "</div>\n",
              "    </div>\n",
              "  </div>\n"
            ],
            "text/plain": [
              "       vehicle_id vehicle_type  vehicle_speed  vehicle_angle  vehicle_x  \\\n",
              "0  France:Italy.0   hw_trailer           0.00          74.69      75.76   \n",
              "1  France:Italy.0   hw_trailer           3.77          75.90      86.77   \n",
              "2  France:Italy.0   hw_trailer           7.79          78.24     116.17   \n",
              "3  France:Italy.0   hw_trailer          11.98          83.16     167.19   \n",
              "4  France:Italy.0   hw_trailer          16.58          93.25     239.67   \n",
              "5  France:Italy.0   hw_trailer          20.39         106.63     331.35   \n",
              "6  France:Italy.0   hw_trailer          24.18         115.81     435.77   \n",
              "7  France:Italy.0   hw_trailer          27.59         111.34     555.70   \n",
              "8  France:Italy.0   hw_trailer          27.64         100.30     688.87   \n",
              "9  France:Italy.0   hw_trailer          27.53          98.34     824.14   \n",
              "\n",
              "   vehicle_y  vehicle_z  timestep_time            datetime  \n",
              "0    2978.07     385.78        18000.0 1970-01-01 05:00:00  \n",
              "1    2980.73     386.41        18005.0 1970-01-01 05:00:05  \n",
              "2    2987.10     388.23        18010.0 1970-01-01 05:00:10  \n",
              "3    2994.59     391.30        18015.0 1970-01-01 05:00:15  \n",
              "4    2996.51     395.37        18020.0 1970-01-01 05:00:20  \n",
              "5    2977.06     401.30        18025.0 1970-01-01 05:00:25  \n",
              "6    2932.68     405.24        18030.0 1970-01-01 05:00:30  \n",
              "7    2878.51     409.41        18035.0 1970-01-01 05:00:35  \n",
              "8    2844.22     411.96        18040.0 1970-01-01 05:00:40  \n",
              "9    2822.54     412.65        18045.0 1970-01-01 05:00:45  "
            ]
          },
          "execution_count": 125,
          "metadata": {},
          "output_type": "execute_result"
        }
      ],
      "source": [
        "df.head(10)"
      ]
    },
    {
      "cell_type": "markdown",
      "metadata": {
        "id": "P9YMzyjbV2Bb"
      },
      "source": [
        "## 5. Create unique_id column\n",
        "In some cases, the same vehicle_id might be reused for different vehicles, or the same vehicle_id might make different trips throughout its lifetime in the dataset. Thus, a unique_id column is created to distinguish these sequences."
      ]
    },
    {
      "cell_type": "code",
      "execution_count": 126,
      "metadata": {
        "id": "gs82VgF0T2z4"
      },
      "outputs": [],
      "source": [
        "def assign_unique_ids(df, time_gap_threshold=7200):\n",
        "    # Sort by 'vehicle_id' and 'datetime' to ensure the correct order\n",
        "    df = df.sort_values(by=['vehicle_id', DATETIME_COL]).reset_index(drop=True)\n",
        "\n",
        "    # Calculate the time difference between consecutive rows\n",
        "    df['time_diff'] = df.groupby('vehicle_id')[DATETIME_COL].diff().dt.total_seconds().fillna(0.0)\n",
        "\n",
        "    # Identify the start of a new sequence\n",
        "    df['new_seq'] = df['time_diff'] > time_gap_threshold\n",
        "\n",
        "    # Generate an incremental sequence identifier within each vehicle_id group\n",
        "    df['seq_id'] = df.groupby('vehicle_id')['new_seq'].cumsum().astype(int)\n",
        "\n",
        "    # Convert 'seq_id' to string and pad with leading zeros\n",
        "    df['seq_id_str'] = df['seq_id'].astype(str).str.zfill(3)\n",
        "\n",
        "    # Concatenate 'vehicle_id' with 'seq_id_str' to form 'unique_id'\n",
        "    df['unique_id'] = df['vehicle_id'] + '_' + df['seq_id_str']\n",
        "\n",
        "    # Drop all the interim columns created\n",
        "    df = df.drop(columns=['time_diff', 'new_seq', 'seq_id', 'seq_id_str'])\n",
        "\n",
        "    # Sort by 'unique_id' and 'datetime' to ensure the correct order\n",
        "    df = df.sort_values(by=[GROUPBY_COL, DATETIME_COL]).reset_index(drop=True)\n",
        "\n",
        "    return df"
      ]
    },
    {
      "cell_type": "code",
      "execution_count": 127,
      "metadata": {
        "id": "0gogZxo4c7_f"
      },
      "outputs": [],
      "source": [
        "df = assign_unique_ids(df)"
      ]
    },
    {
      "cell_type": "code",
      "execution_count": 128,
      "metadata": {
        "colab": {
          "base_uri": "https://localhost:8080/"
        },
        "id": "qy2EqMjWdc-b",
        "outputId": "e2efd2bc-781e-4a04-ce1c-7d8fa77ff2cc"
      },
      "outputs": [
        {
          "name": "stdout",
          "output_type": "stream",
          "text": [
            "number of vehicle_ids: 6148\n",
            "number of unique_ids: 6148\n"
          ]
        }
      ],
      "source": [
        "print(f\"number of vehicle_ids: {df['vehicle_id'].nunique()}\")\n",
        "print(f\"number of unique_ids: {df['unique_id'].nunique()}\")"
      ]
    },
    {
      "cell_type": "code",
      "execution_count": 129,
      "metadata": {
        "colab": {
          "base_uri": "https://localhost:8080/"
        },
        "id": "nLgDs1_hgC5y",
        "outputId": "3f81887d-4a4b-460a-fa76-936c64ebae14"
      },
      "outputs": [
        {
          "name": "stdout",
          "output_type": "stream",
          "text": [
            "<class 'pandas.core.frame.DataFrame'>\n",
            "RangeIndex: 1228876 entries, 0 to 1228875\n",
            "Data columns (total 10 columns):\n",
            " #   Column         Non-Null Count    Dtype         \n",
            "---  ------         --------------    -----         \n",
            " 0   vehicle_id     1228876 non-null  object        \n",
            " 1   vehicle_type   1228876 non-null  object        \n",
            " 2   vehicle_speed  1228876 non-null  float64       \n",
            " 3   vehicle_angle  1228876 non-null  float64       \n",
            " 4   vehicle_x      1228876 non-null  float64       \n",
            " 5   vehicle_y      1228876 non-null  float64       \n",
            " 6   vehicle_z      1228876 non-null  float64       \n",
            " 7   timestep_time  1228876 non-null  float64       \n",
            " 8   datetime       1228876 non-null  datetime64[ns]\n",
            " 9   unique_id      1228876 non-null  object        \n",
            "dtypes: datetime64[ns](1), float64(6), object(3)\n",
            "memory usage: 93.8+ MB\n"
          ]
        }
      ],
      "source": [
        "df.info()"
      ]
    },
    {
      "cell_type": "markdown",
      "metadata": {
        "id": "Ynz4QZcN0K7D"
      },
      "source": [
        "## 6. Drop rows belonging to unique_ids with only one data point"
      ]
    },
    {
      "cell_type": "code",
      "execution_count": 130,
      "metadata": {
        "id": "G9Q0dZnv0LBB"
      },
      "outputs": [],
      "source": [
        "# Calculate the count of rows for each unique_id\n",
        "df['count'] = df.groupby(GROUPBY_COL)[GROUPBY_COL].transform('count')\n",
        "\n",
        "# Filter out unique_ids with only one data point\n",
        "df = df[df['count'] > 1]\n",
        "\n",
        "# Drop interim column count\n",
        "df = df.drop(columns=['count'])\n",
        "\n",
        "# Sort by 'unique_id' and 'datetime' to ensure the correct order\n",
        "df = df.sort_values(by=[GROUPBY_COL, DATETIME_COL]).reset_index(drop=True)"
      ]
    },
    {
      "cell_type": "markdown",
      "metadata": {
        "id": "JLoQyRSAXluy"
      },
      "source": [
        "## 7. Impute missing/unknown labels"
      ]
    },
    {
      "cell_type": "code",
      "execution_count": 131,
      "metadata": {
        "colab": {
          "base_uri": "https://localhost:8080/"
        },
        "id": "IW7aAmzsV1XU",
        "outputId": "50ec6e5d-f7cf-4fa1-fc5b-a717de176e12"
      },
      "outputs": [
        {
          "data": {
            "text/plain": [
              "(31,\n",
              " array(['hw_trailer', 'hw_delivery', 'hw_passenger3', 'hw_truck',\n",
              "        'hw_passenger2b', 'hw_coach', 'hw_motorcycle', 'hw_passenger1',\n",
              "        'hw_passenger4', 'hw_passenger2a', 'bus', 'delivery', 'coach',\n",
              "        'truck', 'trailer', 'avgbicycle', 'slowbicycle', 'fastbicycle',\n",
              "        'motorcycle', 'taxi', 'moped', 'uber', 'passenger3', 'passenger4',\n",
              "        'passenger2a', 'passenger1', 'passenger2b', 'emergency',\n",
              "        'authority', 'army', 'train'], dtype=object))"
            ]
          },
          "execution_count": 131,
          "metadata": {},
          "output_type": "execute_result"
        }
      ],
      "source": [
        "df[TARGET_COL].nunique(), df[TARGET_COL].unique()"
      ]
    },
    {
      "cell_type": "code",
      "execution_count": 132,
      "metadata": {
        "id": "zRrdDEJJfPFn"
      },
      "outputs": [],
      "source": [
        "# In this case there are no missing or unknown labels, hence no imputation is needed."
      ]
    },
    {
      "cell_type": "markdown",
      "metadata": {
        "id": "ALGvpO4Uhf_x"
      },
      "source": [
        "## 8. Ensure that each unique_id has only one label"
      ]
    },
    {
      "cell_type": "code",
      "execution_count": 133,
      "metadata": {
        "colab": {
          "base_uri": "https://localhost:8080/"
        },
        "id": "Nl07G1QulkJY",
        "outputId": "4106170f-dd19-444e-864d-6a9331aa8c2e"
      },
      "outputs": [
        {
          "name": "stdout",
          "output_type": "stream",
          "text": [
            "number of unique_ids with more than one label: 0\n"
          ]
        }
      ],
      "source": [
        "# Calculate the number of unique labels for each unique_id\n",
        "num_labels_per_group = df.groupby(GROUPBY_COL)[TARGET_COL].nunique()\n",
        "\n",
        "# Filter to get unique_ids with more than one label\n",
        "ids_w_more_than_one_label = num_labels_per_group[num_labels_per_group > 1].index.tolist()\n",
        "\n",
        "print(f\"number of unique_ids with more than one label: {len(ids_w_more_than_one_label)}\")"
      ]
    },
    {
      "cell_type": "code",
      "execution_count": 134,
      "metadata": {
        "colab": {
          "base_uri": "https://localhost:8080/"
        },
        "id": "Fwo2EpuJiEhc",
        "outputId": "849a749d-55dc-4140-bdcc-7896e574fea4"
      },
      "outputs": [
        {
          "name": "stdout",
          "output_type": "stream",
          "text": [
            "0 rows belonging to unique_ids with more than one label dropped. 1228866 rows remain.\n"
          ]
        }
      ],
      "source": [
        "# Drop rows belonging to these unique_ids\n",
        "bef = len(df)\n",
        "df = df[~df[GROUPBY_COL].isin(ids_w_more_than_one_label)]\n",
        "aft = len(df)\n",
        "print(f\"{bef - aft} rows belonging to unique_ids with more than one label dropped. {aft} rows remain.\")\n",
        "\n",
        "# Sort by 'unique_id' and 'datetime' to ensure the correct order\n",
        "df = df.sort_values(by=[GROUPBY_COL, DATETIME_COL]).reset_index(drop=True)"
      ]
    },
    {
      "cell_type": "markdown",
      "metadata": {
        "id": "U_WqQgC5eCJ1"
      },
      "source": [
        "## 9. Feature engineering: convert vehicle_angle to sine and cosine components"
      ]
    },
    {
      "cell_type": "markdown",
      "metadata": {
        "id": "Oz1dlwYtfZqa"
      },
      "source": [
        "`vehicle_angle` is in degrees, and its values range from 0 to 360, and is cyclical in nature. For example, 359 degrees and 1 degree are very close in terms of orientation, but numerically they are far apart.\n",
        "\n",
        "By transforming an angle into sine and cosine components, we effectively map the cyclical feature onto a circle. This way, values that are close to each other on the cycle (like 1 degree and 359 degrees) are also close in their sine and cosine representations."
      ]
    },
    {
      "cell_type": "code",
      "execution_count": 135,
      "metadata": {
        "colab": {
          "base_uri": "https://localhost:8080/"
        },
        "id": "CKZmM2IFV1ZQ",
        "outputId": "e2855c1c-e896-4537-dd74-8a78d39879d8"
      },
      "outputs": [
        {
          "name": "stdout",
          "output_type": "stream",
          "text": [
            "<class 'pandas.core.frame.DataFrame'>\n",
            "RangeIndex: 1228866 entries, 0 to 1228865\n",
            "Data columns (total 12 columns):\n",
            " #   Column                Non-Null Count    Dtype         \n",
            "---  ------                --------------    -----         \n",
            " 0   vehicle_id            1228866 non-null  object        \n",
            " 1   vehicle_type          1228866 non-null  object        \n",
            " 2   vehicle_speed         1228866 non-null  float64       \n",
            " 3   vehicle_angle         1228866 non-null  float64       \n",
            " 4   vehicle_x             1228866 non-null  float64       \n",
            " 5   vehicle_y             1228866 non-null  float64       \n",
            " 6   vehicle_z             1228866 non-null  float64       \n",
            " 7   timestep_time         1228866 non-null  float64       \n",
            " 8   datetime              1228866 non-null  datetime64[ns]\n",
            " 9   unique_id             1228866 non-null  object        \n",
            " 10  vehicle_angle_sine    1228866 non-null  float64       \n",
            " 11  vehicle_angle_cosine  1228866 non-null  float64       \n",
            "dtypes: datetime64[ns](1), float64(8), object(3)\n",
            "memory usage: 112.5+ MB\n"
          ]
        }
      ],
      "source": [
        "df['vehicle_angle_sine'] = np.sin(np.radians(df['vehicle_angle']))\n",
        "df['vehicle_angle_cosine'] = np.cos(np.radians(df['vehicle_angle']))\n",
        "df.info()"
      ]
    },
    {
      "cell_type": "markdown",
      "metadata": {
        "id": "iE3jBpSchVmL"
      },
      "source": [
        "## 10. Check for regular time intervals within each unique_id and resample if needed"
      ]
    },
    {
      "cell_type": "code",
      "execution_count": 136,
      "metadata": {
        "colab": {
          "base_uri": "https://localhost:8080/"
        },
        "id": "uILScJBYlGXV",
        "outputId": "ed08ab78-1eba-4a2b-d088-8c996f9947c4"
      },
      "outputs": [
        {
          "name": "stdout",
          "output_type": "stream",
          "text": [
            "time_diff\n",
            "5.0     1222686\n",
            "10.0         28\n",
            "20.0          5\n",
            "15.0          3\n",
            "50.0          2\n",
            "45.0          1\n",
            "55.0          1\n",
            "25.0          1\n",
            "40.0          1\n",
            "Name: count, dtype: int64\n",
            "\n",
            "42 out of 6138 unique_ids have irregular time intervals.\n"
          ]
        }
      ],
      "source": [
        "# Calculate the time difference between consecutive rows\n",
        "df['time_diff'] = df.groupby(GROUPBY_COL)[DATETIME_COL].diff().dt.total_seconds()\n",
        "\n",
        "# Check if all time differences within each group are the same, excluding the initial NA\n",
        "df['regular_interval'] = df.groupby(GROUPBY_COL)['time_diff'].transform(lambda x: (x.dropna().nunique() == 1))\n",
        "\n",
        "# Get unique_ids with irregular intervals\n",
        "ids_w_irregular_intervals = df.loc[df['regular_interval'] == False, GROUPBY_COL].unique()\n",
        "\n",
        "# Find out the most regular time interval\n",
        "print(df['time_diff'].value_counts())\n",
        "\n",
        "# Drop all the interim columns created\n",
        "df = df.drop(columns=['time_diff', 'regular_interval'])\n",
        "\n",
        "print(f\"\\n{len(ids_w_irregular_intervals)} out of {df[GROUPBY_COL].nunique()} unique_ids have irregular time intervals.\")"
      ]
    },
    {
      "cell_type": "code",
      "execution_count": 137,
      "metadata": {
        "id": "bZFWUMCutmUS"
      },
      "outputs": [],
      "source": [
        "# Resample the data at a desired frequency\n",
        "def resample_group(group, desired_freq='5S'):\n",
        "    # Ensure datetime column is in proper datetime format\n",
        "    group[DATETIME_COL] = pd.to_datetime(group[DATETIME_COL])\n",
        "\n",
        "    # Check for duplicate timestamps within the group\n",
        "    if group[DATETIME_COL].duplicated().any():\n",
        "        raise ValueError(\"Duplicate timestamps found within a group!\")\n",
        "\n",
        "    # Set datetime as index\n",
        "    group = group.set_index(DATETIME_COL)\n",
        "\n",
        "    # Define custom aggregation: mean for numeric columns, first for non-numeric\n",
        "    aggregation = {col: 'mean' if pd.api.types.is_numeric_dtype(group[col]) else 'first'\n",
        "                   for col in group.columns}\n",
        "\n",
        "    # Resample the data to the desired frequency using the defined aggregation\n",
        "    group = group.resample(desired_freq).agg(aggregation)\n",
        "\n",
        "    # Interpolate to fill missing values after resampling, separately handling numeric and non-numeric columns\n",
        "    numeric_cols = group.select_dtypes(include=['number']).columns\n",
        "    group[numeric_cols] = group[numeric_cols].interpolate()\n",
        "    non_numeric_cols = group.select_dtypes(exclude=['number']).columns\n",
        "    group[non_numeric_cols] = group[non_numeric_cols].fillna(method='ffill')\n",
        "\n",
        "    # Reset index to bring 'datetime' back as a column\n",
        "    group.reset_index(inplace=True)\n",
        "\n",
        "    return group"
      ]
    },
    {
      "cell_type": "code",
      "execution_count": 138,
      "metadata": {
        "id": "zakXaLAHvKKI"
      },
      "outputs": [],
      "source": [
        "# Apply the function to each 'unique_id' group\n",
        "resampled_df = df.groupby(GROUPBY_COL).apply(resample_group).reset_index(drop=True)\n",
        "\n",
        "# Sort by 'unique_id' and 'datetime' to ensure the correct order\n",
        "resampled_df = resampled_df.sort_values(by=[GROUPBY_COL, DATETIME_COL]).reset_index(drop=True)"
      ]
    },
    {
      "cell_type": "code",
      "execution_count": 140,
      "metadata": {
        "colab": {
          "base_uri": "https://localhost:8080/"
        },
        "id": "HXLpVZUlqcYJ",
        "outputId": "418b313c-455a-4d15-e64a-7300ca329fbd"
      },
      "outputs": [
        {
          "name": "stdout",
          "output_type": "stream",
          "text": [
            "<class 'pandas.core.frame.DataFrame'>\n",
            "RangeIndex: 1228962 entries, 0 to 1228961\n",
            "Data columns (total 12 columns):\n",
            " #   Column                Non-Null Count    Dtype         \n",
            "---  ------                --------------    -----         \n",
            " 0   datetime              1228962 non-null  datetime64[ns]\n",
            " 1   vehicle_id            1228962 non-null  object        \n",
            " 2   vehicle_type          1228962 non-null  object        \n",
            " 3   vehicle_speed         1228962 non-null  float64       \n",
            " 4   vehicle_angle         1228962 non-null  float64       \n",
            " 5   vehicle_x             1228962 non-null  float64       \n",
            " 6   vehicle_y             1228962 non-null  float64       \n",
            " 7   vehicle_z             1228962 non-null  float64       \n",
            " 8   timestep_time         1228962 non-null  float64       \n",
            " 9   unique_id             1228962 non-null  object        \n",
            " 10  vehicle_angle_sine    1228962 non-null  float64       \n",
            " 11  vehicle_angle_cosine  1228962 non-null  float64       \n",
            "dtypes: datetime64[ns](1), float64(8), object(3)\n",
            "memory usage: 112.5+ MB\n"
          ]
        }
      ],
      "source": [
        "resampled_df.info()"
      ]
    },
    {
      "cell_type": "code",
      "execution_count": 141,
      "metadata": {
        "colab": {
          "base_uri": "https://localhost:8080/"
        },
        "id": "hTn2AjLErSNx",
        "outputId": "c97a30de-2337-41dd-eb1e-f73e47bc3fa7"
      },
      "outputs": [
        {
          "name": "stdout",
          "output_type": "stream",
          "text": [
            "Difference details: DataFrame are different\n",
            "\n",
            "DataFrame shape mismatch\n",
            "[left]:  (248, 11)\n",
            "[right]: (258, 11)\n",
            "Difference details: DataFrame are different\n",
            "\n",
            "DataFrame shape mismatch\n",
            "[left]:  (103, 11)\n",
            "[right]: (104, 11)\n",
            "Difference details: DataFrame are different\n",
            "\n",
            "DataFrame shape mismatch\n",
            "[left]:  (188, 11)\n",
            "[right]: (189, 11)\n",
            "Difference details: DataFrame are different\n",
            "\n",
            "DataFrame shape mismatch\n",
            "[left]:  (224, 11)\n",
            "[right]: (226, 11)\n",
            "Difference details: DataFrame are different\n",
            "\n",
            "DataFrame shape mismatch\n",
            "[left]:  (194, 11)\n",
            "[right]: (195, 11)\n",
            "Difference details: DataFrame are different\n",
            "\n",
            "DataFrame shape mismatch\n",
            "[left]:  (125, 11)\n",
            "[right]: (126, 11)\n",
            "Difference details: DataFrame are different\n",
            "\n",
            "DataFrame shape mismatch\n",
            "[left]:  (199, 11)\n",
            "[right]: (200, 11)\n",
            "Difference details: DataFrame are different\n",
            "\n",
            "DataFrame shape mismatch\n",
            "[left]:  (165, 11)\n",
            "[right]: (166, 11)\n",
            "Difference details: DataFrame are different\n",
            "\n",
            "DataFrame shape mismatch\n",
            "[left]:  (266, 11)\n",
            "[right]: (267, 11)\n",
            "Difference details: DataFrame are different\n",
            "\n",
            "DataFrame shape mismatch\n",
            "[left]:  (87, 11)\n",
            "[right]: (88, 11)\n",
            "Difference details: DataFrame are different\n",
            "\n",
            "DataFrame shape mismatch\n",
            "[left]:  (300, 11)\n",
            "[right]: (308, 11)\n",
            "Difference details: DataFrame are different\n",
            "\n",
            "DataFrame shape mismatch\n",
            "[left]:  (230, 11)\n",
            "[right]: (234, 11)\n",
            "Difference details: DataFrame are different\n",
            "\n",
            "DataFrame shape mismatch\n",
            "[left]:  (251, 11)\n",
            "[right]: (252, 11)\n",
            "Difference details: DataFrame are different\n",
            "\n",
            "DataFrame shape mismatch\n",
            "[left]:  (216, 11)\n",
            "[right]: (225, 11)\n",
            "Difference details: DataFrame are different\n",
            "\n",
            "DataFrame shape mismatch\n",
            "[left]:  (114, 11)\n",
            "[right]: (115, 11)\n",
            "Difference details: DataFrame are different\n",
            "\n",
            "DataFrame shape mismatch\n",
            "[left]:  (118, 11)\n",
            "[right]: (120, 11)\n",
            "Difference details: DataFrame are different\n",
            "\n",
            "DataFrame shape mismatch\n",
            "[left]:  (195, 11)\n",
            "[right]: (202, 11)\n",
            "Difference details: DataFrame are different\n",
            "\n",
            "DataFrame shape mismatch\n",
            "[left]:  (228, 11)\n",
            "[right]: (229, 11)\n",
            "Difference details: DataFrame are different\n",
            "\n",
            "DataFrame shape mismatch\n",
            "[left]:  (104, 11)\n",
            "[right]: (105, 11)\n",
            "Difference details: DataFrame are different\n",
            "\n",
            "DataFrame shape mismatch\n",
            "[left]:  (208, 11)\n",
            "[right]: (217, 11)\n",
            "Difference details: DataFrame are different\n",
            "\n",
            "DataFrame shape mismatch\n",
            "[left]:  (119, 11)\n",
            "[right]: (120, 11)\n",
            "Difference details: DataFrame are different\n",
            "\n",
            "DataFrame shape mismatch\n",
            "[left]:  (138, 11)\n",
            "[right]: (139, 11)\n",
            "Difference details: DataFrame are different\n",
            "\n",
            "DataFrame shape mismatch\n",
            "[left]:  (278, 11)\n",
            "[right]: (281, 11)\n",
            "Difference details: DataFrame are different\n",
            "\n",
            "DataFrame shape mismatch\n",
            "[left]:  (126, 11)\n",
            "[right]: (129, 11)\n",
            "Difference details: DataFrame are different\n",
            "\n",
            "DataFrame shape mismatch\n",
            "[left]:  (158, 11)\n",
            "[right]: (159, 11)\n",
            "Difference details: DataFrame are different\n",
            "\n",
            "DataFrame shape mismatch\n",
            "[left]:  (235, 11)\n",
            "[right]: (236, 11)\n",
            "Difference details: DataFrame are different\n",
            "\n",
            "DataFrame shape mismatch\n",
            "[left]:  (188, 11)\n",
            "[right]: (189, 11)\n",
            "Difference details: DataFrame are different\n",
            "\n",
            "DataFrame shape mismatch\n",
            "[left]:  (245, 11)\n",
            "[right]: (246, 11)\n",
            "Difference details: DataFrame are different\n",
            "\n",
            "DataFrame shape mismatch\n",
            "[left]:  (284, 11)\n",
            "[right]: (285, 11)\n",
            "Difference details: DataFrame are different\n",
            "\n",
            "DataFrame shape mismatch\n",
            "[left]:  (246, 11)\n",
            "[right]: (247, 11)\n",
            "Difference details: DataFrame are different\n",
            "\n",
            "DataFrame shape mismatch\n",
            "[left]:  (82, 11)\n",
            "[right]: (84, 11)\n",
            "Difference details: DataFrame are different\n",
            "\n",
            "DataFrame shape mismatch\n",
            "[left]:  (144, 11)\n",
            "[right]: (145, 11)\n",
            "Difference details: DataFrame are different\n",
            "\n",
            "DataFrame shape mismatch\n",
            "[left]:  (345, 11)\n",
            "[right]: (348, 11)\n",
            "Difference details: DataFrame are different\n",
            "\n",
            "DataFrame shape mismatch\n",
            "[left]:  (125, 11)\n",
            "[right]: (126, 11)\n",
            "Difference details: DataFrame are different\n",
            "\n",
            "DataFrame shape mismatch\n",
            "[left]:  (401, 11)\n",
            "[right]: (402, 11)\n",
            "Difference details: DataFrame are different\n",
            "\n",
            "DataFrame shape mismatch\n",
            "[left]:  (304, 11)\n",
            "[right]: (305, 11)\n",
            "Difference details: DataFrame are different\n",
            "\n",
            "DataFrame shape mismatch\n",
            "[left]:  (271, 11)\n",
            "[right]: (274, 11)\n",
            "Difference details: DataFrame are different\n",
            "\n",
            "DataFrame shape mismatch\n",
            "[left]:  (311, 11)\n",
            "[right]: (314, 11)\n",
            "Difference details: DataFrame are different\n",
            "\n",
            "DataFrame shape mismatch\n",
            "[left]:  (359, 11)\n",
            "[right]: (360, 11)\n",
            "Difference details: DataFrame are different\n",
            "\n",
            "DataFrame shape mismatch\n",
            "[left]:  (192, 11)\n",
            "[right]: (193, 11)\n",
            "Difference details: DataFrame are different\n",
            "\n",
            "DataFrame shape mismatch\n",
            "[left]:  (572, 11)\n",
            "[right]: (573, 11)\n",
            "Difference details: DataFrame are different\n",
            "\n",
            "DataFrame shape mismatch\n",
            "[left]:  (81, 11)\n",
            "[right]: (82, 11)\n"
          ]
        }
      ],
      "source": [
        "# Sanity check\n",
        "from pandas.testing import assert_frame_equal\n",
        "\n",
        "# Assuming df and resampled_df are already defined DataFrames\n",
        "# Set 'unique_id' as an index for efficient lookup\n",
        "df.set_index('unique_id', inplace=True)\n",
        "resampled_df.set_index('unique_id', inplace=True)\n",
        "\n",
        "# Use set operations for more efficient creation of the list of IDs with regular intervals\n",
        "set_all_ids = set(df.index.unique())\n",
        "set_ids_w_irregular_intervals = set(ids_w_irregular_intervals)\n",
        "ids_w_regular_intervals = list(set_all_ids - set_ids_w_irregular_intervals)\n",
        "\n",
        "# Function to check equality of two DataFrames\n",
        "def check_dataframes_equivalence(df1, df2):\n",
        "    try:\n",
        "        # Assert that the dataframes are equal, considering column order, index order, and data types\n",
        "        assert_frame_equal(df1.sort_index(axis=1), df2.sort_index(axis=1), check_dtype=True)\n",
        "        return True\n",
        "    except AssertionError as e:\n",
        "        print(f\"Difference details: {e}\")\n",
        "        return False\n",
        "\n",
        "# Loop through each unique_id that is expected to have regular intervals\n",
        "for unique_id in ids_w_regular_intervals:\n",
        "    # Extract the corresponding slices from each DataFrame\n",
        "    df1 = df.loc[[unique_id]]\n",
        "    df2 = resampled_df.loc[[unique_id]]\n",
        "\n",
        "    # Check if the DataFrames are equivalent and handle the exception if they are not\n",
        "    if not check_dataframes_equivalence(df1, df2):\n",
        "        print(f\"DataFrames do not match for {unique_id}\")\n",
        "\n",
        "# Loop through each unique_id that initially had irregular intervals\n",
        "for unique_id in ids_w_irregular_intervals:\n",
        "    # Extract the corresponding slices from each DataFrame\n",
        "    df1 = df.loc[[unique_id]]\n",
        "    df2 = resampled_df.loc[[unique_id]]\n",
        "\n",
        "    # Check if the DataFrames are equivalent and handle the exception if they are not\n",
        "    if check_dataframes_equivalence(df1, df2):\n",
        "        print(f\"DataFrames unexpectedly match for {unique_id}\")\n",
        "\n",
        "# Reset index\n",
        "df.reset_index(inplace=True)\n",
        "resampled_df.reset_index(inplace=True)"
      ]
    },
    {
      "cell_type": "markdown",
      "metadata": {
        "id": "C7-HDQ0g2Te2"
      },
      "source": [
        "#### Save the resampled df at this point"
      ]
    },
    {
      "cell_type": "code",
      "execution_count": 142,
      "metadata": {
        "colab": {
          "base_uri": "https://localhost:8080/"
        },
        "id": "H3mIOC-GzXbS",
        "outputId": "3a56c439-765e-460a-d0c3-d4668cc7d113"
      },
      "outputs": [
        {
          "name": "stdout",
          "output_type": "stream",
          "text": [
            "Resampled data saved as .csv file to Google Drive.\n"
          ]
        }
      ],
      "source": [
        "# Sort by 'unique_id' and 'datetime' to ensure the correct order\n",
        "resampled_df = resampled_df.sort_values(by=[GROUPBY_COL, DATETIME_COL]).reset_index(drop=True)\n",
        "\n",
        "# Save the resampled df as a .csv file\n",
        "resampled_df.to_csv(f'{SAVE_DIR}/250424_2323H_resampled_vehicle_data.csv', index=False)\n",
        "print(\"Resampled data saved as .csv file to Google Drive.\")"
      ]
    },
    {
      "cell_type": "markdown",
      "metadata": {
        "id": "xFIJ2Okm21Dy"
      },
      "source": [
        "## Clustering with TSLearn"
      ]
    },
    {
      "cell_type": "code",
      "execution_count": null,
      "metadata": {
        "id": "1qG4yffs39ss"
      },
      "outputs": [],
      "source": [
        "# # Load resampled data directly\n",
        "# resampled_df = pd.read_csv(f'{SAVE_DIR}/250424_2323H_resampled_vehicle_data.csv')\n",
        "# resampled_df[DATETIME_COL] = pd.to_datetime(df[DATETIME_COL])\n",
        "# resampled_df.info()"
      ]
    },
    {
      "cell_type": "code",
      "execution_count": 143,
      "metadata": {
        "id": "KN89CVlP3FDL"
      },
      "outputs": [],
      "source": [
        "df = resampled_df.copy()"
      ]
    },
    {
      "cell_type": "code",
      "execution_count": 144,
      "metadata": {
        "colab": {
          "base_uri": "https://localhost:8080/"
        },
        "id": "-txhhLF-3RHN",
        "outputId": "56e4f8c2-4235-4a61-a41b-79b6e0e3a4f0"
      },
      "outputs": [
        {
          "name": "stdout",
          "output_type": "stream",
          "text": [
            "<class 'pandas.core.frame.DataFrame'>\n",
            "RangeIndex: 1228962 entries, 0 to 1228961\n",
            "Data columns (total 12 columns):\n",
            " #   Column                Non-Null Count    Dtype         \n",
            "---  ------                --------------    -----         \n",
            " 0   unique_id             1228962 non-null  object        \n",
            " 1   datetime              1228962 non-null  datetime64[ns]\n",
            " 2   vehicle_id            1228962 non-null  object        \n",
            " 3   vehicle_type          1228962 non-null  object        \n",
            " 4   vehicle_speed         1228962 non-null  float64       \n",
            " 5   vehicle_angle         1228962 non-null  float64       \n",
            " 6   vehicle_x             1228962 non-null  float64       \n",
            " 7   vehicle_y             1228962 non-null  float64       \n",
            " 8   vehicle_z             1228962 non-null  float64       \n",
            " 9   timestep_time         1228962 non-null  float64       \n",
            " 10  vehicle_angle_sine    1228962 non-null  float64       \n",
            " 11  vehicle_angle_cosine  1228962 non-null  float64       \n",
            "dtypes: datetime64[ns](1), float64(8), object(3)\n",
            "memory usage: 112.5+ MB\n"
          ]
        }
      ],
      "source": [
        "df.info()"
      ]
    },
    {
      "cell_type": "code",
      "execution_count": 150,
      "metadata": {
        "colab": {
          "base_uri": "https://localhost:8080/"
        },
        "id": "AY1dUvkw3VMJ",
        "outputId": "63969cca-4573-4407-afe8-bcbdd399f8ac"
      },
      "outputs": [
        {
          "name": "stdout",
          "output_type": "stream",
          "text": [
            "There are currently 31 vehicle_types in the dataset.\n",
            "These classes are:\n",
            "['hw_trailer' 'hw_delivery' 'hw_passenger3' 'hw_truck' 'hw_passenger2b'\n",
            " 'hw_coach' 'hw_motorcycle' 'hw_passenger1' 'hw_passenger4'\n",
            " 'hw_passenger2a' 'bus' 'delivery' 'coach' 'truck' 'trailer' 'avgbicycle'\n",
            " 'slowbicycle' 'fastbicycle' 'motorcycle' 'taxi' 'moped' 'uber'\n",
            " 'passenger3' 'passenger4' 'passenger2a' 'passenger1' 'passenger2b'\n",
            " 'emergency' 'authority' 'army' 'train']\n"
          ]
        }
      ],
      "source": [
        "print(f\"There are currently {df[TARGET_COL].nunique()} vehicle_types in the dataset.\\nThese classes are:\")\n",
        "print(f\"{df[TARGET_COL].unique()}\")"
      ]
    },
    {
      "cell_type": "code",
      "execution_count": null,
      "metadata": {
        "id": "O9jI4wpA2xfu"
      },
      "outputs": [],
      "source": [
        "from tslearn.utils import to_time_series_dataset\n",
        "from tslearn.preprocessing import TimeSeriesResampler\n",
        "from tslearn.clustering import TimeSeriesKMeans\n",
        "\n",
        "# Load and prepare your DataFrame\n",
        "df['datetime'] = pd.to_datetime(df['datetime'])\n",
        "df.sort_values(by=['unique_id', 'datetime'], inplace=True)\n",
        "\n",
        "# Calculate time differences in seconds\n",
        "df['time_diff_seconds'] = df.groupby('unique_id')['datetime'].diff().dt.total_seconds().fillna(0)\n",
        "\n",
        "# Calculate speed change (delta velocity)\n",
        "df['vehicle_speed_change'] = df.groupby('unique_id')['vehicle_speed'].diff().fillna(0)\n",
        "\n",
        "# Calculate acceleration as change in velocity over time\n",
        "df['acceleration'] = df['vehicle_speed_change'] / df['time_diff_seconds']\n",
        "\n",
        "# Handle potential divide by zero issues by replacing infinities and NaNs\n",
        "df['acceleration'].replace([np.inf, -np.inf], np.nan, inplace=True)\n",
        "df['acceleration'].fillna(0, inplace=True)  # You might choose to handle NaNs differently based on your data's context\n",
        "\n",
        "# Selecting features for clustering\n",
        "features = ['vehicle_speed', 'vehicle_angle_sine', 'vehicle_angle_cosine', 'acceleration']  # Updated feature list\n",
        "\n",
        "# List to hold time series data\n",
        "time_series_data = []\n",
        "unique_ids = df['unique_id'].unique()\n",
        "\n",
        "for uid in unique_ids:\n",
        "    temp_df = df[df['unique_id'] == uid]\n",
        "    if len(temp_df) > 1:  # Only consider series with more than one time point\n",
        "        series = temp_df[features].values\n",
        "        time_series_data.append(series)\n",
        "\n",
        "# Convert list to TSLearn time series dataset\n",
        "time_series_dataset = to_time_series_dataset(time_series_data)\n",
        "\n",
        "# Resample time series to the same length\n",
        "max_length = max(len(ts) for ts in time_series_dataset)\n",
        "time_series_dataset = TimeSeriesResampler(sz=max_length).fit_transform(time_series_dataset)\n",
        "\n",
        "# Clustering with TimeSeriesKMeans\n",
        "n_clusters = 31  # Number of clusters\n",
        "model = TimeSeriesKMeans(n_clusters=n_clusters, metric=\"dtw\", verbose=True)\n",
        "labels = model.fit_predict(time_series_dataset)\n",
        "\n",
        "# Assign cluster labels back to the original DataFrame\n",
        "cluster_labels = pd.Series(labels, index=unique_ids)\n",
        "df['cluster_label'] = df['unique_id'].map(cluster_labels)\n",
        "\n",
        "# Analyze the clustering results\n",
        "cross_tab = pd.crosstab(df['vehicle_type'], df['cluster_label'])\n",
        "print(cross_tab)\n"
      ]
    },
    {
      "cell_type": "code",
      "execution_count": null,
      "metadata": {
        "id": "NI-Q24RE3LA6"
      },
      "outputs": [],
      "source": []
    }
  ],
  "metadata": {
    "accelerator": "GPU",
    "colab": {
      "gpuType": "L4",
      "machine_shape": "hm",
      "provenance": [],
      "toc_visible": true
    },
    "kernelspec": {
      "display_name": "Python 3",
      "name": "python3"
    },
    "language_info": {
      "codemirror_mode": {
        "name": "ipython",
        "version": 3
      },
      "file_extension": ".py",
      "mimetype": "text/x-python",
      "name": "python",
      "nbconvert_exporter": "python",
      "pygments_lexer": "ipython3",
      "version": "3.11.8"
    }
  },
  "nbformat": 4,
  "nbformat_minor": 0
}
